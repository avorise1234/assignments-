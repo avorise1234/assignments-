{
  "nbformat": 4,
  "nbformat_minor": 0,
  "metadata": {
    "colab": {
      "provenance": [],
      "include_colab_link": true
    },
    "kernelspec": {
      "name": "python3",
      "display_name": "Python 3"
    },
    "language_info": {
      "name": "python"
    }
  },
  "cells": [
    {
      "cell_type": "markdown",
      "metadata": {
        "id": "view-in-github",
        "colab_type": "text"
      },
      "source": [
        "<a href=\"https://colab.research.google.com/github/avorise1234/assignments-/blob/main/Decision.ipynb\" target=\"_parent\"><img src=\"https://colab.research.google.com/assets/colab-badge.svg\" alt=\"Open In Colab\"/></a>"
      ]
    },
    {
      "cell_type": "markdown",
      "source": [
        "# Decision statements\n",
        "\n",
        "To execute or not to execute—that is the question. I have adapted a Shakespeare quote, originally written as \"To be, or not to be—that is the question.\" Decision statements generally work in a similar way. You evaluate an expression, and if the result is true, you perform a specific action; otherwise, you take a different action.\n",
        "\n",
        "## Objective\n",
        "1. Understand how decision statements are applied in Python\n",
        "2. Apply comparison, logical and bitwise logical operators to evaluate the expression\n",
        "\n",
        "## Prerequisite\n",
        "\n",
        "- Converting binary to decimal and decimal to binary\n",
        "- Decision statements\n",
        "- Input functions\n",
        "- Python literals\n",
        "- Programming variables\n",
        "\n",
        "\n",
        "## What do you need to complete this exercise?\n",
        "\n",
        "You can perform this exercise in any Python IDE, including JupyterLab or Google Colab.\n"
      ],
      "metadata": {
        "id": "2ITy4ycVFXBq"
      }
    },
    {
      "cell_type": "markdown",
      "source": [
        "### 1. Comparison operators\n",
        "\n",
        "Decision statements utilize comparison operators, and based on the True or False result, specific statements are executed."
      ],
      "metadata": {
        "id": "uQxH0KO0tsDc"
      }
    },
    {
      "cell_type": "code",
      "source": [
        "print(2 < 5)  # this gives True"
      ],
      "metadata": {
        "id": "8ZIVOfAMQt2Z"
      },
      "execution_count": null,
      "outputs": []
    },
    {
      "cell_type": "code",
      "source": [
        "print(10 <= 10)  # this gives True"
      ],
      "metadata": {
        "id": "cF0UyMIqQ8V3"
      },
      "execution_count": null,
      "outputs": []
    },
    {
      "cell_type": "code",
      "source": [
        "x = 10"
      ],
      "metadata": {
        "id": "S5kO371-Q_NL"
      },
      "execution_count": null,
      "outputs": []
    },
    {
      "cell_type": "code",
      "source": [
        "print(20 < x)  # this gives False"
      ],
      "metadata": {
        "id": "fQr5X9N0RceU"
      },
      "execution_count": null,
      "outputs": []
    },
    {
      "cell_type": "code",
      "source": [
        "print(\"A\" < \"a\")  # this gives True because the ASCII of \"A\" is 65 and \"a\" is 97. The Python interpreter converts the\n",
        "# character in ASCII number and then compare."
      ],
      "metadata": {
        "id": "QacofGe4RdZX"
      },
      "execution_count": null,
      "outputs": []
    },
    {
      "cell_type": "code",
      "source": [
        "print(\"Monday\" > \"Tuesday\")  # this gives False because the first character of \"Monday\" (M) has a lower ASCII value\n",
        "# as compared to the first character of \"Tuesday\" (T)"
      ],
      "metadata": {
        "id": "5M7ksW8xsC3k"
      },
      "execution_count": null,
      "outputs": []
    },
    {
      "cell_type": "markdown",
      "source": [
        "Research and find the ASCII number of all the characters available on the keyboard using Python."
      ],
      "metadata": {
        "id": "oxXvMBKNsX8M"
      }
    },
    {
      "cell_type": "code",
      "source": [
        "# Write your code here."
      ],
      "metadata": {
        "id": "w9Ai1I_JsYw9"
      },
      "execution_count": null,
      "outputs": []
    },
    {
      "cell_type": "markdown",
      "source": [
        "### 2. Logical operators (and, or, not)\n",
        "\n",
        "> **Do not write logical operators in all uppercase like AND, OR, NOT - Syntax Error**\n",
        "\n",
        "**and logical operator:** Both expression's result need to be True to get the True output.\n",
        "If one expression's result is False, the output will be False regardless of the second expression's result. For example,\n"
      ],
      "metadata": {
        "id": "IeiOBf1Tse1c"
      }
    },
    {
      "cell_type": "code",
      "source": [
        "10 > 4 and 50 < 100  # True and True is True"
      ],
      "metadata": {
        "id": "x3mHyztHSYtd"
      },
      "execution_count": null,
      "outputs": []
    },
    {
      "cell_type": "code",
      "source": [
        "10 < 4 and 50 < 100  # Here first expression is False, the output will be False"
      ],
      "metadata": {
        "id": "3cKTn377ScUS"
      },
      "execution_count": null,
      "outputs": []
    },
    {
      "cell_type": "markdown",
      "source": [
        "**or logical operator:** Both expression's result need to be False to get the False output.\n",
        "If one expression's result is True, the output will be True regardless of the second expression's result. For example,"
      ],
      "metadata": {
        "id": "1zkqNiyFSgoT"
      }
    },
    {
      "cell_type": "code",
      "source": [
        "10 < 4 or 50 > 100  # False and False is False"
      ],
      "metadata": {
        "id": "dy3FnJs5UEaD"
      },
      "execution_count": null,
      "outputs": []
    },
    {
      "cell_type": "code",
      "source": [
        "10 > 4 and 50 > 100  # Here first expression is True, the output will be True"
      ],
      "metadata": {
        "id": "wy95gdKhUFpw"
      },
      "execution_count": null,
      "outputs": []
    },
    {
      "cell_type": "markdown",
      "source": [
        "**not logical operator:** Inverts the result"
      ],
      "metadata": {
        "id": "MECYeRbPUJX3"
      }
    },
    {
      "cell_type": "code",
      "source": [
        "10 > 4 # this is True"
      ],
      "metadata": {
        "id": "ILhDuME6ULRI"
      },
      "execution_count": null,
      "outputs": []
    },
    {
      "cell_type": "code",
      "source": [
        "not(10 > 4) # this is False"
      ],
      "metadata": {
        "id": "4cKFmjbLUNJL"
      },
      "execution_count": null,
      "outputs": []
    },
    {
      "cell_type": "markdown",
      "source": [
        "### 3. Bitwise logical operators (and, or, not, xor)\n",
        "**Remember bitwise logical operators operates on bits**\n",
        "To differentiate between logical operators and bitwise logical operators, Python uses distinct symbols for each.\n",
        "\n",
        "| Name of the logical operator | Logical operator in Python | Bitwise logical operator in Python |\n",
        "| ---------------------------- | -------------------------- | ---------------------------------- |\n",
        "| and                          | and                        | &                                  |\n",
        "| or                           | or                         | \\|                                 |\n",
        "| not                          | not                        | ~                                  |\n",
        "| xor                          | -                          | ^                                  |\n",
        "|                              |                 \n",
        "\n",
        "#### Example bitwise or"
      ],
      "metadata": {
        "id": "czSzoaq2UTFT"
      }
    },
    {
      "cell_type": "code",
      "source": [
        "x = 0b1110 # 0b represents binary number, decimal 14"
      ],
      "metadata": {
        "id": "UvjKUqDNUYcB"
      },
      "execution_count": null,
      "outputs": []
    },
    {
      "cell_type": "code",
      "source": [
        "y = 0b1011 # decimal 11"
      ],
      "metadata": {
        "id": "vtpI8d0eUbnn"
      },
      "execution_count": null,
      "outputs": []
    },
    {
      "cell_type": "code",
      "source": [
        "result = x | y # Bitwise or, result in decimal format"
      ],
      "metadata": {
        "id": "8m-iUI9TUfHP"
      },
      "execution_count": null,
      "outputs": []
    },
    {
      "cell_type": "code",
      "source": [
        "print(result)"
      ],
      "metadata": {
        "id": "OT80dv26Ufve"
      },
      "execution_count": null,
      "outputs": []
    },
    {
      "cell_type": "code",
      "source": [
        "print(bin(result)) # bin() function converts decimal to binary"
      ],
      "metadata": {
        "id": "rnNhxiGPUi8S"
      },
      "execution_count": null,
      "outputs": []
    },
    {
      "cell_type": "code",
      "source": [
        "# Proof\n",
        "# 1110\n",
        "# 1011\n",
        "# ----\n",
        "# 1111"
      ],
      "metadata": {
        "id": "mkvmqn0YU1US"
      },
      "execution_count": null,
      "outputs": []
    },
    {
      "cell_type": "code",
      "source": [
        "# Write your code here"
      ],
      "metadata": {
        "id": "XUyBMOc4U3ce"
      },
      "execution_count": null,
      "outputs": []
    },
    {
      "cell_type": "markdown",
      "source": [
        "### 4. Decision statements\n",
        "\n",
        "#### Find the largest two integers"
      ],
      "metadata": {
        "id": "F1tjoqe6U8VT"
      }
    },
    {
      "cell_type": "code",
      "source": [
        "# Read two numbers\n",
        "number1 = int(input(\"Enter the first number: \"))\n",
        "number2 = int(input(\"Enter the second number: \"))\n",
        "\n",
        "# Choose the larger number\n",
        "if (number1 > number2):\n",
        "    larger_number = number1\n",
        "else:\n",
        "    larger_number = number2\n",
        "\n",
        "# Print the result\n",
        "print(\"The larger number is:\", larger_number)\n"
      ],
      "metadata": {
        "colab": {
          "base_uri": "https://localhost:8080/"
        },
        "id": "5hiwtoXpVDdD",
        "outputId": "82f08065-751a-4369-a215-7687956dbb5c"
      },
      "execution_count": null,
      "outputs": [
        {
          "output_type": "stream",
          "name": "stdout",
          "text": [
            "Enter the first number: 5\n",
            "Enter the second number: 4\n",
            "The larger number is: 5\n"
          ]
        }
      ]
    },
    {
      "cell_type": "markdown",
      "source": [
        "#### Nested conditional statements"
      ],
      "metadata": {
        "id": "Sd6Yi7mbVQ0T"
      }
    },
    {
      "cell_type": "code",
      "source": [
        "x = 10\n",
        "\n",
        "if x > 5:  # True\n",
        "    if x == 6:  # False\n",
        "        print(\"nested: x == 6\")\n",
        "    elif x == 10:  # True\n",
        "        print(\"nested: x == 10\")\n",
        "    else:\n",
        "        print(\"nested: else\")\n",
        "else:\n",
        "    print(\"else\")"
      ],
      "metadata": {
        "id": "_j-EFKxRVW9L"
      },
      "execution_count": null,
      "outputs": []
    },
    {
      "cell_type": "markdown",
      "source": [
        "### 5. Problem-solving\n",
        "\n",
        "a. Find the largest three integers just using ```if``` statements. Take user inputs and display the result."
      ],
      "metadata": {
        "id": "moP3KtMHVcuH"
      }
    },
    {
      "cell_type": "code",
      "source": [
        "# Write your code here"
      ],
      "metadata": {
        "id": "3wtKiCOgVlZI"
      },
      "execution_count": null,
      "outputs": []
    },
    {
      "cell_type": "markdown",
      "source": [
        "b. Identify multiple methods to determine if a number is even or odd. The user will input an integer, and the output will indicate whether it's \"odd\" or \"even.\" The code should be organized into sections, with comments separating each part. For example"
      ],
      "metadata": {
        "id": "bNRmk6MpVrdX"
      }
    },
    {
      "cell_type": "code",
      "source": [
        "#######################\n",
        "# Approach 1\n",
        "#######################\n",
        "# Approach 2\n",
        "#######################\n",
        "# Approach 3\n",
        "#######################"
      ],
      "metadata": {
        "id": "SaTUGktDV0YO"
      },
      "execution_count": null,
      "outputs": []
    },
    {
      "cell_type": "markdown",
      "source": [
        "c. Implement the grading scheme for the CISC 179 course. The grading scheme as follows:\n",
        "\n",
        "|Grade|Percent|Description\n",
        "|-|-----|-|\n",
        "|A|>90|Work of genuinely superior quality.|\n",
        "|B|80-89|Passing performance falls approximately in the upper distribution of passing grades.|\n",
        "|C|71-79|Passing performance falls approximately in the center of the distribution of all passing grades.|\n",
        "|D|65-70|Passing performance falls approximately in the lower distribution of passing grades.|\n",
        "|F|<65|Failing performance that does not satisfy the basic requirements of the course and needs to be improved in significant ways.|\n",
        "\n",
        "The user inputs a percentage as an integer, and the output displays the corresponding grade along with a description. The logic uses ```if```, ```elif```, and ```else``` statements, with comments to clarify each part."
      ],
      "metadata": {
        "id": "AZFu1-vKNmH-"
      }
    },
    {
      "cell_type": "code",
      "source": [
        "# Write your code here"
      ],
      "metadata": {
        "id": "9Sov9YAPNxbW"
      },
      "execution_count": null,
      "outputs": []
    },
    {
      "cell_type": "markdown",
      "source": [
        "d. Write a code which takes ```and```, ```or```, ```not``` as an user input. Create a truth table by writing your expressions. Display the truth table using ```print()``` function. Research how the truth tables for logical operators are structured."
      ],
      "metadata": {
        "id": "s1QT0aCiN0I-"
      }
    },
    {
      "cell_type": "code",
      "source": [
        "# Write your code here"
      ],
      "metadata": {
        "id": "c0nmbAaIN6Wy"
      },
      "execution_count": null,
      "outputs": []
    },
    {
      "cell_type": "markdown",
      "source": [
        "e. To determine whether an integer is even or odd using only a bitwise AND operator. The user will input an integer. Your code should utilize the bitwise AND operator to differentiate between even and odd numbers. Finally, use the print() function to display the result. Avoid using any modulus or remainder operators."
      ],
      "metadata": {
        "id": "N_T7SitKN8js"
      }
    },
    {
      "cell_type": "code",
      "source": [
        "# Write your code here"
      ],
      "metadata": {
        "id": "4OWqwOyZN_rh"
      },
      "execution_count": null,
      "outputs": []
    },
    {
      "cell_type": "markdown",
      "source": [
        "### 6. Code revision\n",
        "Revise the code using **nested** ```if```, ```elif```, and ```else``` statements, and add comments to clarify the logic.\n",
        "```\n",
        "name = input(\"What's your name? \")\n",
        "time = int(input(\"What time is it? \"))\n",
        "\n",
        "if (time < 1200):\n",
        "    print(\"Hi \"+name + \", good morning!\")\n",
        "if (time < 1800):\n",
        "    print(\"Hi \"+name + \", good afternoon!\")\n",
        "if (time > 1800):\n",
        "    print(\"Hi \"+name + \", good evening!\")\n",
        "\n",
        "print(\"Good Bye\")\n",
        "```"
      ],
      "metadata": {
        "id": "zdv5pLLOPBBt"
      }
    },
    {
      "cell_type": "code",
      "source": [
        "# Write your code here"
      ],
      "metadata": {
        "id": "nwi9yMjyPHok"
      },
      "execution_count": null,
      "outputs": []
    },
    {
      "cell_type": "markdown",
      "source": [
        "### 7. Output verification\n",
        "What will be the output of the code provided below **without using Python**?\n",
        "```python\n",
        "x = 1\n",
        "y = 1.0\n",
        "z = \"1\"\n",
        "\n",
        "if x == y:\n",
        "    print(\"one\")\n",
        "if y == int(z):\n",
        "    print(\"two\")\n",
        "elif x == y:\n",
        "    print(\"three\")\n",
        "else:\n",
        "    print(\"four\")\n",
        "```\n",
        "Please execute the code provided above in Python to confirm your result."
      ],
      "metadata": {
        "id": "ul0eL03uPt_P"
      }
    },
    {
      "cell_type": "code",
      "source": [
        "# Write your code here"
      ],
      "metadata": {
        "id": "Rr4lTEWbP0ow"
      },
      "execution_count": null,
      "outputs": []
    },
    {
      "cell_type": "markdown",
      "source": [
        "## Challenges\n",
        "\n",
        "Please describe the challenges you faced during the exercise."
      ],
      "metadata": {
        "id": "xQzjxKdvvbyo"
      }
    },
    {
      "cell_type": "markdown",
      "source": [
        "Write your challenges here"
      ],
      "metadata": {
        "id": "qfJNpTB5EbY4"
      }
    }
  ]
}