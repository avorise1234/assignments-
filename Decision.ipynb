{
  "nbformat": 4,
  "nbformat_minor": 0,
  "metadata": {
    "colab": {
      "provenance": [],
      "include_colab_link": true
    },
    "kernelspec": {
      "name": "python3",
      "display_name": "Python 3"
    },
    "language_info": {
      "name": "python"
    }
  },
  "cells": [
    {
      "cell_type": "markdown",
      "metadata": {
        "id": "view-in-github",
        "colab_type": "text"
      },
      "source": [
        "<a href=\"https://colab.research.google.com/github/avorise1234/assignments-/blob/main/Decision.ipynb\" target=\"_parent\"><img src=\"https://colab.research.google.com/assets/colab-badge.svg\" alt=\"Open In Colab\"/></a>"
      ]
    },
    {
      "cell_type": "markdown",
      "source": [
        "# Decision statements\n",
        "\n",
        "To execute or not to execute—that is the question. I have adapted a Shakespeare quote, originally written as \"To be, or not to be—that is the question.\" Decision statements generally work in a similar way. You evaluate an expression, and if the result is true, you perform a specific action; otherwise, you take a different action.\n",
        "\n",
        "## Objective\n",
        "1. Understand how decision statements are applied in Python\n",
        "2. Apply comparison, logical and bitwise logical operators to evaluate the expression\n",
        "\n",
        "## Prerequisite\n",
        "\n",
        "- Converting binary to decimal and decimal to binary\n",
        "- Decision statements\n",
        "- Input functions\n",
        "- Python literals\n",
        "- Programming variables\n",
        "\n",
        "\n",
        "## What do you need to complete this exercise?\n",
        "\n",
        "You can perform this exercise in any Python IDE, including JupyterLab or Google Colab.\n"
      ],
      "metadata": {
        "id": "2ITy4ycVFXBq"
      }
    },
    {
      "cell_type": "markdown",
      "source": [
        "### 1. Comparison operators\n",
        "\n",
        "Decision statements utilize comparison operators, and based on the True or False result, specific statements are executed."
      ],
      "metadata": {
        "id": "uQxH0KO0tsDc"
      }
    },
    {
      "cell_type": "code",
      "source": [
        "print(2 < 5)  #  this givesTrue"
      ],
      "metadata": {
        "id": "8ZIVOfAMQt2Z",
        "outputId": "ee53e89e-6dd5-4048-bfd7-19eb28c51f36",
        "colab": {
          "base_uri": "https://localhost:8080/"
        }
      },
      "execution_count": 1,
      "outputs": [
        {
          "output_type": "stream",
          "name": "stdout",
          "text": [
            "True\n"
          ]
        }
      ]
    },
    {
      "cell_type": "code",
      "source": [
        "print(10 <= 10)  # this gives True"
      ],
      "metadata": {
        "id": "cF0UyMIqQ8V3",
        "outputId": "0da88125-52ab-45aa-f649-ced31f7e8e6f",
        "colab": {
          "base_uri": "https://localhost:8080/"
        }
      },
      "execution_count": 2,
      "outputs": [
        {
          "output_type": "stream",
          "name": "stdout",
          "text": [
            "True\n"
          ]
        }
      ]
    },
    {
      "cell_type": "code",
      "source": [
        "x = 10  # this gives False"
      ],
      "metadata": {
        "id": "S5kO371-Q_NL"
      },
      "execution_count": 3,
      "outputs": []
    },
    {
      "cell_type": "code",
      "source": [
        "print(20 < x)  # this gives False"
      ],
      "metadata": {
        "id": "fQr5X9N0RceU",
        "outputId": "713f9eea-8185-424a-edeb-2dfd999141bc",
        "colab": {
          "base_uri": "https://localhost:8080/"
        }
      },
      "execution_count": 4,
      "outputs": [
        {
          "output_type": "stream",
          "name": "stdout",
          "text": [
            "False\n"
          ]
        }
      ]
    },
    {
      "cell_type": "code",
      "source": [
        "print(\"A\" < \"a\")  # this gives True because the ASCII of \"A\" is 65 and \"a\" is 97. The Python interpreter converts the\n",
        "# character in ASCII number and then compare."
      ],
      "metadata": {
        "id": "QacofGe4RdZX",
        "outputId": "b00a6bd0-c527-48c4-e312-b09fc47b5353",
        "colab": {
          "base_uri": "https://localhost:8080/"
        }
      },
      "execution_count": 5,
      "outputs": [
        {
          "output_type": "stream",
          "name": "stdout",
          "text": [
            "True\n"
          ]
        }
      ]
    },
    {
      "cell_type": "code",
      "source": [
        "print(\"Monday\" > \"Tuesday\")  # this gives False because the first character of \"Monday\" (M) has a lower ASCII value\n",
        "# as compared to the first character of \"Tuesday\" (T)"
      ],
      "metadata": {
        "id": "5M7ksW8xsC3k",
        "outputId": "a4694be2-3bf1-47d6-de2a-ef269b011a9d",
        "colab": {
          "base_uri": "https://localhost:8080/"
        }
      },
      "execution_count": 6,
      "outputs": [
        {
          "output_type": "stream",
          "name": "stdout",
          "text": [
            "False\n"
          ]
        }
      ]
    },
    {
      "cell_type": "markdown",
      "source": [
        "Research and find the ASCII number of all the characters available on the keyboard using Python."
      ],
      "metadata": {
        "id": "oxXvMBKNsX8M"
      }
    },
    {
      "cell_type": "code",
      "source": [
        "# for i range(32,127): # ASCII printable characters range Character: (chr(i)), ASCII: (i)\")"
      ],
      "metadata": {
        "id": "w9Ai1I_JsYw9"
      },
      "execution_count": 7,
      "outputs": []
    },
    {
      "cell_type": "markdown",
      "source": [
        "### 2. Logical operators (and, or, not)\n",
        "\n",
        "> **Do not write logical operators in all uppercase like AND, OR, NOT - Syntax Error**\n",
        "\n",
        "**and logical operator:** Both expression's result need to be True to get the True output.\n",
        "If one expression's result is False, the output will be False regardless of the second expression's result. For example,\n"
      ],
      "metadata": {
        "id": "IeiOBf1Tse1c"
      }
    },
    {
      "cell_type": "code",
      "source": [
        "10 > 4 and 50 < 100  # True and True is True"
      ],
      "metadata": {
        "id": "x3mHyztHSYtd",
        "outputId": "765d8881-63db-4b28-9c2a-61a666a16f7e",
        "colab": {
          "base_uri": "https://localhost:8080/"
        }
      },
      "execution_count": 8,
      "outputs": [
        {
          "output_type": "execute_result",
          "data": {
            "text/plain": [
              "True"
            ]
          },
          "metadata": {},
          "execution_count": 8
        }
      ]
    },
    {
      "cell_type": "code",
      "source": [
        "10 < 4 and 50 < 100  # Here first expression is False, the output will be False"
      ],
      "metadata": {
        "id": "3cKTn377ScUS",
        "outputId": "e8289e3d-7424-457a-cb57-c4ed7436d6fa",
        "colab": {
          "base_uri": "https://localhost:8080/"
        }
      },
      "execution_count": 9,
      "outputs": [
        {
          "output_type": "execute_result",
          "data": {
            "text/plain": [
              "False"
            ]
          },
          "metadata": {},
          "execution_count": 9
        }
      ]
    },
    {
      "cell_type": "markdown",
      "source": [
        "**or logical operator:** Both expression's result need to be False to get the False output.\n",
        "If one expression's result is True, the output will be True regardless of the second expression's result. For example,"
      ],
      "metadata": {
        "id": "1zkqNiyFSgoT"
      }
    },
    {
      "cell_type": "code",
      "source": [
        "10 < 4 or 50 > 100  # False and False is False"
      ],
      "metadata": {
        "id": "dy3FnJs5UEaD",
        "outputId": "2c4e2d57-02c1-4b02-8901-ed9d755f88f6",
        "colab": {
          "base_uri": "https://localhost:8080/"
        }
      },
      "execution_count": 10,
      "outputs": [
        {
          "output_type": "execute_result",
          "data": {
            "text/plain": [
              "False"
            ]
          },
          "metadata": {},
          "execution_count": 10
        }
      ]
    },
    {
      "cell_type": "code",
      "source": [
        "10 > 4 and 50 > 100  # Here first expression is True, the output will be True"
      ],
      "metadata": {
        "id": "wy95gdKhUFpw",
        "outputId": "47a8b2ff-f833-4cc6-c57f-5aa8f3047969",
        "colab": {
          "base_uri": "https://localhost:8080/"
        }
      },
      "execution_count": 11,
      "outputs": [
        {
          "output_type": "execute_result",
          "data": {
            "text/plain": [
              "False"
            ]
          },
          "metadata": {},
          "execution_count": 11
        }
      ]
    },
    {
      "cell_type": "markdown",
      "source": [
        "**not logical operator:** Inverts the result"
      ],
      "metadata": {
        "id": "MECYeRbPUJX3"
      }
    },
    {
      "cell_type": "code",
      "source": [
        "10 > 4 # this is True"
      ],
      "metadata": {
        "id": "ILhDuME6ULRI",
        "outputId": "9d776678-9c43-4cb0-8d9c-78530edf1119",
        "colab": {
          "base_uri": "https://localhost:8080/"
        }
      },
      "execution_count": 12,
      "outputs": [
        {
          "output_type": "execute_result",
          "data": {
            "text/plain": [
              "True"
            ]
          },
          "metadata": {},
          "execution_count": 12
        }
      ]
    },
    {
      "cell_type": "code",
      "source": [
        "not(10 > 4) # this is False"
      ],
      "metadata": {
        "id": "4cKFmjbLUNJL",
        "outputId": "2c77e4e3-8e29-4202-c0dc-702ef9f853d9",
        "colab": {
          "base_uri": "https://localhost:8080/"
        }
      },
      "execution_count": 13,
      "outputs": [
        {
          "output_type": "execute_result",
          "data": {
            "text/plain": [
              "False"
            ]
          },
          "metadata": {},
          "execution_count": 13
        }
      ]
    },
    {
      "cell_type": "markdown",
      "source": [
        "### 3. Bitwise logical operators (and, or, not, xor)\n",
        "**Remember bitwise logical operators operates on bits**\n",
        "To differentiate between logical operators and bitwise logical operators, Python uses distinct symbols for each.\n",
        "\n",
        "| Name of the logical operator | Logical operator in Python | Bitwise logical operator in Python |\n",
        "| ---------------------------- | -------------------------- | ---------------------------------- |\n",
        "| and                          | and                        | &                                  |\n",
        "| or                           | or                         | \\|                                 |\n",
        "| not                          | not                        | ~                                  |\n",
        "| xor                          | -                          | ^                                  |\n",
        "|                              |                 \n",
        "\n",
        "#### Example bitwise or"
      ],
      "metadata": {
        "id": "czSzoaq2UTFT"
      }
    },
    {
      "cell_type": "code",
      "source": [
        "x = 0b1110 # 0b represents binary number, decimal 14"
      ],
      "metadata": {
        "id": "UvjKUqDNUYcB"
      },
      "execution_count": 14,
      "outputs": []
    },
    {
      "cell_type": "code",
      "source": [
        "y = 0b1011 # decimal 11"
      ],
      "metadata": {
        "id": "vtpI8d0eUbnn"
      },
      "execution_count": 15,
      "outputs": []
    },
    {
      "cell_type": "code",
      "source": [
        "result = x | y # Bitwise or, result in decimal format"
      ],
      "metadata": {
        "id": "8m-iUI9TUfHP"
      },
      "execution_count": 16,
      "outputs": []
    },
    {
      "cell_type": "code",
      "source": [
        "print(result)"
      ],
      "metadata": {
        "id": "OT80dv26Ufve",
        "outputId": "1f1f4b08-b98e-4db1-a927-a60e3dd65451",
        "colab": {
          "base_uri": "https://localhost:8080/"
        }
      },
      "execution_count": 19,
      "outputs": [
        {
          "output_type": "stream",
          "name": "stdout",
          "text": [
            "15\n"
          ]
        }
      ]
    },
    {
      "cell_type": "code",
      "source": [
        "print(bin(result)) # bin() function converts decimal to binary"
      ],
      "metadata": {
        "id": "rnNhxiGPUi8S",
        "outputId": "2a60d9c9-d243-4c44-b313-b61cdf92ccb5",
        "colab": {
          "base_uri": "https://localhost:8080/"
        }
      },
      "execution_count": 18,
      "outputs": [
        {
          "output_type": "stream",
          "name": "stdout",
          "text": [
            "0b1111\n"
          ]
        }
      ]
    },
    {
      "cell_type": "code",
      "source": [
        "# Proof\n",
        "# 1110\n",
        "# 1011\n",
        "# ----\n",
        "# 1111"
      ],
      "metadata": {
        "id": "mkvmqn0YU1US"
      },
      "execution_count": 17,
      "outputs": []
    },
    {
      "cell_type": "code",
      "source": [
        "# print(result) 15\n",
        "# print(bin(result)) ob1111"
      ],
      "metadata": {
        "id": "XUyBMOc4U3ce"
      },
      "execution_count": 20,
      "outputs": []
    },
    {
      "cell_type": "markdown",
      "source": [
        "### 4. Decision statements\n",
        "\n",
        "#### Find the largest two integers"
      ],
      "metadata": {
        "id": "F1tjoqe6U8VT"
      }
    },
    {
      "cell_type": "code",
      "source": [
        "# Read two numbers\n",
        "number1 = int(input(\"Enter the first number: \"))\n",
        "number2 = int(input(\"Enter the second number: \"))\n",
        "\n",
        "# Choose the larger number\n",
        "if (number1 > number2):\n",
        "    larger_number = number1\n",
        "else:\n",
        "    larger_number = number2\n",
        "\n",
        "# Print the result\n",
        "print(\"The larger number is:\", larger_number)\n"
      ],
      "metadata": {
        "colab": {
          "base_uri": "https://localhost:8080/"
        },
        "id": "5hiwtoXpVDdD",
        "outputId": "d369a46e-3ee2-4b1e-fc7b-e54b04511098"
      },
      "execution_count": 21,
      "outputs": [
        {
          "output_type": "stream",
          "name": "stdout",
          "text": [
            "Enter the first number: 8\n",
            "Enter the second number: 12\n",
            "The larger number is: 12\n"
          ]
        }
      ]
    },
    {
      "cell_type": "markdown",
      "source": [
        "#### Nested conditional statements"
      ],
      "metadata": {
        "id": "Sd6Yi7mbVQ0T"
      }
    },
    {
      "cell_type": "code",
      "source": [
        "x = 10\n",
        "\n",
        "if x > 5:  # True\n",
        "    if x == 6:  # False\n",
        "        print(\"nested: x == 6\")\n",
        "    elif x == 10:  # True\n",
        "        print(\"nested: x == 10\")\n",
        "    else:\n",
        "        print(\"nested: else\")\n",
        "else:\n",
        "    print(\"else\")"
      ],
      "metadata": {
        "id": "_j-EFKxRVW9L",
        "outputId": "3283cdd9-4827-4232-e2ec-50529b9f949c",
        "colab": {
          "base_uri": "https://localhost:8080/"
        }
      },
      "execution_count": 22,
      "outputs": [
        {
          "output_type": "stream",
          "name": "stdout",
          "text": [
            "nested: x == 10\n"
          ]
        }
      ]
    },
    {
      "cell_type": "markdown",
      "source": [
        "### 5. Problem-solving\n",
        "\n",
        "a. Find the largest three integers just using ```if``` statements. Take user inputs and display the result."
      ],
      "metadata": {
        "id": "moP3KtMHVcuH"
      }
    },
    {
      "cell_type": "code",
      "source": [
        "number1 = int(input(\"Enter the first number: \"))\n",
        "number2 = int(input(\"Enter the second number: \"))\n",
        "number3 = int(input(\"Enter the third number: \")) # This line is added to take input for number3\n",
        "\n",
        "# Assume first number is the largest\n",
        "largest = number1\n",
        "\n",
        "# Compare with second number\n",
        "if number2 > largest:\n",
        "    largest = number2\n",
        "\n",
        "# Compare with third number\n",
        "if number3 > largest:\n",
        "    largest = number3\n",
        "\n",
        "# Print the largest number\n",
        "print(\"The largest number is:\", largest)"
      ],
      "metadata": {
        "id": "3wtKiCOgVlZI",
        "outputId": "b87b3d6b-e7ab-4408-d7d2-6c852ebc5af1",
        "colab": {
          "base_uri": "https://localhost:8080/"
        }
      },
      "execution_count": 30,
      "outputs": [
        {
          "output_type": "stream",
          "name": "stdout",
          "text": [
            "Enter the first number: 8\n",
            "Enter the second number: 3\n",
            "Enter the third number: 12\n",
            "The largest number is: 12\n"
          ]
        }
      ]
    },
    {
      "cell_type": "markdown",
      "source": [
        "b. Identify multiple methods to determine if a number is even or odd. The user will input an integer, and the output will indicate whether it's \"odd\" or \"even.\" The code should be organized into sections, with comments separating each part. For example"
      ],
      "metadata": {
        "id": "bNRmk6MpVrdX"
      }
    },
    {
      "cell_type": "code",
      "source": [
        "#######################\n",
        "# Approach 1\n",
        "#######################\n",
        "# Approach 2\n",
        "#######################\n",
        "# Approach 3\n",
        "#######################"
      ],
      "metadata": {
        "id": "SaTUGktDV0YO"
      },
      "execution_count": 23,
      "outputs": []
    },
    {
      "cell_type": "markdown",
      "source": [
        "c. Implement the grading scheme for the CISC 179 course. The grading scheme as follows:\n",
        "\n",
        "|Grade|Percent|Description\n",
        "|-|-----|-|\n",
        "|A|>90|Work of genuinely superior quality.|\n",
        "|B|80-89|Passing performance falls approximately in the upper distribution of passing grades.|\n",
        "|C|71-79|Passing performance falls approximately in the center of the distribution of all passing grades.|\n",
        "|D|65-70|Passing performance falls approximately in the lower distribution of passing grades.|\n",
        "|F|<65|Failing performance that does not satisfy the basic requirements of the course and needs to be improved in significant ways.|\n",
        "\n",
        "The user inputs a percentage as an integer, and the output displays the corresponding grade along with a description. The logic uses ```if```, ```elif```, and ```else``` statements, with comments to clarify each part."
      ],
      "metadata": {
        "id": "AZFu1-vKNmH-"
      }
    },
    {
      "cell_type": "code",
      "source": [
        "# Read user input\n",
        "percentage = int(input(\"Enter your percentage: \"))\n",
        "\n",
        "#Determine the grade using if-elif-else\n",
        "if percentage > 90:\n",
        "    grade = \"A\"\n",
        "    description = \"Work of genuinely superior quailty.\"\n",
        "\n",
        "elif percentage >= 80:\n",
        "    grade = \"B\"\n",
        "    description = \"Passing performance falls approximately in the upper distribution of passing grades.\"\n",
        "elif percentage > 71:\n",
        "    grade = \"C\"\n",
        "    description = \"Passing perfromance falls approximately in the center of the distribution of all passing grades.\"\n",
        "elif percentage >= 65:\n",
        "    grade = \"D\"\n",
        "    description = \"Passing performance falls approximately in the upper distribution of passing grades.\"\n",
        "else:\n",
        "    grade = \"F\"\n",
        "    description = \"Failing performance that does not satsify the basic requirement of the course and needs to be improved in significant ways.\"\n",
        "\n",
        "# Print the result\n",
        "print(f\"Grade:  {grade}\")\n",
        "print(f\"Description: {description}\")\n"
      ],
      "metadata": {
        "id": "4qkCJNcOLsWa",
        "outputId": "0ad9ce44-ae10-4d24-8954-9b2491d491be",
        "colab": {
          "base_uri": "https://localhost:8080/"
        }
      },
      "execution_count": 50,
      "outputs": [
        {
          "output_type": "stream",
          "name": "stdout",
          "text": [
            "Enter your percentage: 90\n",
            "Grade:  B\n",
            "Description: Passing performance falls approximately in the upper distribution of passing grades.\n"
          ]
        }
      ]
    },
    {
      "cell_type": "code",
      "source": [
        "# Read user input\n",
        "percentage = int(input(\"Enter your percentage: \"))\n",
        "\n",
        "#Determine the grade using if-elif-else\n",
        "if percentage > 90:\n",
        "    grade = \"A\"\n",
        "    description = \"Work of genuinely superior quailty.\"\n",
        "\n",
        "elif percentage >= 80:\n",
        "    grade = \"B\"\n",
        "    description = \"Passing performance falls approximately in the upper distribution of passing grades.\"\n",
        "elif percentage > 71:\n",
        "    grade = \"C\"\n",
        "    description = \"Passing perfromance falls approximately in the center of the distribution of all passing grades.\"\n",
        "elif percentage >= 65:\n",
        "    grade = \"D\"\n",
        "    description = \"Passing performance falls approximately in the upper distribution of passing grades.\"\n",
        "else:\n",
        "    grade = \"F\"\n",
        "    description = \"Failing performance that does not satsify the basic requirement of the course and needs to be improved in significant ways.\"\n",
        "\n",
        "# Print the result\n",
        "print(f\"Grade:  {grade}\")\n",
        "print(f\"Description: {description}\")\n"
      ],
      "metadata": {
        "id": "9Sov9YAPNxbW",
        "outputId": "013e359f-9a0d-4457-d20e-3a961b217184",
        "colab": {
          "base_uri": "https://localhost:8080/"
        }
      },
      "execution_count": 31,
      "outputs": [
        {
          "output_type": "stream",
          "name": "stdout",
          "text": [
            "Enter your percentage: 85\n",
            "Grade:  B\n",
            "Description: Passing performance falls approximately in the upper distribution of passing grades.\n"
          ]
        }
      ]
    },
    {
      "cell_type": "markdown",
      "source": [
        "d. Write a code which takes ```and```, ```or```, ```not``` as an user input. Create a truth table by writing your expressions. Display the truth table using ```print()``` function. Research how the truth tables for logical operators are structured."
      ],
      "metadata": {
        "id": "s1QT0aCiN0I-"
      }
    },
    {
      "cell_type": "code",
      "source": [
        "# Read user input\n",
        "operator = input(\"Enter a logical operator (and, or, not): \").strip().lower()\n",
        "\n",
        "# Define truth values\n",
        "truth_values = [True, False]\n",
        "\n",
        "# Print the truth Table\n",
        "print(\"\\nTruth Table for\", operator.upper())\n",
        "\n",
        "if operator == \"and\":\n",
        "    print(\"A\\tB\\tA and B\")\n",
        "    for A in truth_values:\n",
        "        for B in truth_values:\n",
        "            print(f\"{A}\\t{B}\\t{A and B}\") # This line was not indented correctly\n",
        "\n",
        "elif operator == \"or\":\n",
        "   print(\"A\\tB\\tA or B\")\n",
        "   for A in truth_values:\n",
        "       for B in truth_values:\n",
        "           print(f\"{A}\\t{B}\\t{A or B}\")  # This line was not indented correctly\n",
        "\n",
        "elif operator ==\"not\":\n",
        "    print(\"A\\tNot A\")\n",
        "    for A in truth_values:\n",
        "        print(f\"{A}\\t{not A}\") # This line was not indented correctly\n",
        "\n",
        "else:\n",
        "    print(\"Invalid operator, Please enter 'and', 'or', or 'not'.\")"
      ],
      "metadata": {
        "id": "c0nmbAaIN6Wy",
        "outputId": "1e9d45b6-0599-4f81-c0bc-a49b46254736",
        "colab": {
          "base_uri": "https://localhost:8080/"
        }
      },
      "execution_count": 40,
      "outputs": [
        {
          "output_type": "stream",
          "name": "stdout",
          "text": [
            "Enter a logical operator (and, or, not): Truth Table\n",
            "\n",
            "Truth Table for TRUTH TABLE\n",
            "Invalid operator, Please enter 'and', 'or', or 'not'.\n"
          ]
        }
      ]
    },
    {
      "cell_type": "markdown",
      "source": [
        "e. To determine whether an integer is even or odd using only a bitwise AND operator. The user will input an integer. Your code should utilize the bitwise AND operator to differentiate between even and odd numbers. Finally, use the print() function to display the result. Avoid using any modulus or remainder operators."
      ],
      "metadata": {
        "id": "N_T7SitKN8js"
      }
    },
    {
      "cell_type": "code",
      "source": [
        "# Read user input\n",
        "num = int(input(\"Enter an integer: \"))\n",
        "\n",
        "# Use bitwise AND to check even/odd\n",
        "if num & 1==0:\n",
        "    print(\"Even\")\n",
        "else:\n",
        "    print(\"odd\")"
      ],
      "metadata": {
        "id": "4OWqwOyZN_rh",
        "outputId": "07227c07-93ea-4a4e-eb75-866155dd4773",
        "colab": {
          "base_uri": "https://localhost:8080/"
        }
      },
      "execution_count": 44,
      "outputs": [
        {
          "output_type": "stream",
          "name": "stdout",
          "text": [
            "Enter an integer: 7\n",
            "odd\n"
          ]
        }
      ]
    },
    {
      "cell_type": "markdown",
      "source": [
        "### 6. Code revision\n",
        "Revise the code using **nested** ```if```, ```elif```, and ```else``` statements, and add comments to clarify the logic.\n",
        "```\n",
        "name = input(\"What's your name? \")\n",
        "time = int(input(\"What time is it? \"))\n",
        "\n",
        "if (time < 1200):\n",
        "    print(\"Hi \"+name + \", good morning!\")\n",
        "if (time < 1800):\n",
        "    print(\"Hi \"+name + \", good afternoon!\")\n",
        "if (time > 1800):\n",
        "    print(\"Hi \"+name + \", good evening!\")\n",
        "\n",
        "print(\"Good Bye\")\n",
        "```"
      ],
      "metadata": {
        "id": "zdv5pLLOPBBt"
      }
    },
    {
      "cell_type": "code",
      "source": [
        "# Get user input for nmae and time\n",
        "name = input(\"What's your name? \")\n",
        "time = int(input(\"What time is it? (Enter in 24-hour format, e.g., 0900 for 9 AM, 1500 for 3 PM) \"))\n",
        "\n",
        "# Determine the appropriate greeting based on time\n",
        "# Get user input for nmae and time\n",
        "name = input(\"What's your name? \")\n",
        "time = int(input(\"What time is it? (Enter in 24-hour format, e.g., 0900 for 9 AM, 1500 for 3 PM) \"))\n",
        "\n",
        "# Determine the appropriate greeting based on time\n",
        "if (time < 1200):\n",
        "    print(\"Hi \"+name + \", good morning!\") # Mornign greeting if the time is before 12:00 PM\n",
        "elif time < 1800:\n",
        "    print(\"Hi \"+name + \", good afternoon!\") # afternoon greeting if time is between 12:00 PM and 6:00 PM\n",
        "else:\n",
        "    print(\"Hi \"+name + \", good evening!\") # Evening greeting if the time is 6:00 PM or later\n",
        "\n",
        "# Final goodbye message\n",
        "print(\"Goodbye!\")\n",
        "print(\"Hi \"+name + \", good evening!\") # Evening greeting if the time is 6:00 PM or later\n",
        "\n",
        "# Final goodbye message\n",
        "print(\"Goodbye!\")\n"
      ],
      "metadata": {
        "id": "nwi9yMjyPHok",
        "outputId": "6cfdc115-5ea9-4e87-ed35-7775a7403539",
        "colab": {
          "base_uri": "https://localhost:8080/"
        }
      },
      "execution_count": 49,
      "outputs": [
        {
          "output_type": "stream",
          "name": "stdout",
          "text": [
            "What's your name? Angela\n",
            "What time is it? (Enter in 24-hour format, e.g., 0900 for 9 AM, 1500 for 3 PM) 0900\n",
            "What's your name? Angela\n",
            "What time is it? (Enter in 24-hour format, e.g., 0900 for 9 AM, 1500 for 3 PM) 1500\n",
            "Hi Angela, good afternoon!\n",
            "Goodbye!\n",
            "Hi Angela, good evening!\n",
            "Goodbye!\n"
          ]
        }
      ]
    },
    {
      "cell_type": "markdown",
      "source": [
        "### 7. Output verification\n",
        "What will be the output of the code provided below **without using Python**?\n",
        "```python\n",
        "x = 1\n",
        "y = 1.0\n",
        "z = \"1\"\n",
        "\n",
        "if x == y:\n",
        "    print(\"one\")\n",
        "if y == int(z):\n",
        "    print(\"two\")\n",
        "elif x == y:\n",
        "    print(\"three\")\n",
        "else:\n",
        "    print(\"four\")\n",
        "```\n",
        "Please execute the code provided above in Python to confirm your result."
      ],
      "metadata": {
        "id": "ul0eL03uPt_P"
      }
    },
    {
      "cell_type": "code",
      "source": [
        "# one\n",
        "#two"
      ],
      "metadata": {
        "id": "Rr4lTEWbP0ow"
      },
      "execution_count": 51,
      "outputs": []
    },
    {
      "cell_type": "markdown",
      "source": [
        "## Challenges\n",
        "\n",
        "Please describe the challenges you faced during the exercise."
      ],
      "metadata": {
        "id": "xQzjxKdvvbyo"
      }
    },
    {
      "cell_type": "markdown",
      "source": [
        "Write your challenges here"
      ],
      "metadata": {
        "id": "qfJNpTB5EbY4"
      }
    },
    {
      "cell_type": "markdown",
      "source": [
        "i was confused about why three did not print. I learned that once an if statement is True, the elif part is skipped. I also learned that python sees 1 and 1.0 as the same number, which made the first if statement \"TRUE\""
      ],
      "metadata": {
        "id": "BiYpbxfscd1w"
      }
    }
  ]
}