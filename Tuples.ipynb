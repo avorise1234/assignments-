{
  "nbformat": 4,
  "nbformat_minor": 0,
  "metadata": {
    "colab": {
      "provenance": [],
      "include_colab_link": true
    },
    "kernelspec": {
      "name": "python3",
      "display_name": "Python 3"
    },
    "language_info": {
      "name": "python"
    }
  },
  "cells": [
    {
      "cell_type": "markdown",
      "metadata": {
        "id": "view-in-github",
        "colab_type": "text"
      },
      "source": [
        "<a href=\"https://colab.research.google.com/github/avorise1234/assignments-/blob/main/Tuples.ipynb\" target=\"_parent\"><img src=\"https://colab.research.google.com/assets/colab-badge.svg\" alt=\"Open In Colab\"/></a>"
      ]
    },
    {
      "cell_type": "markdown",
      "source": [
        "# Tuples in Python\n",
        "A tuple in Python is an ordered, immutable sequence of elements. Tuples are defined using parentheses and can contain elements of different data types, including other tuples. Once a tuple is created, its elements cannot be modified, added, or removed. This immutability makes tuples suitable for representing fixed collections of data.\n",
        "\n",
        "## Objective\n",
        "- Comprehend the application of tuples\n",
        "- Understand how a tuple uses a memory\n",
        "- Apply various operations on tuples\n",
        "\n",
        "## Prerequisite\n",
        "\n",
        "- Lists\n",
        "- Decision and loops\n",
        "- Input functions\n",
        "- Python literals\n",
        "- Programming variables\n",
        "\n",
        "\n",
        "## What do you need to complete this exercise?\n",
        "\n",
        "You can perform this exercise in any Python IDE, including JupyterLab or Google Colab.\n"
      ],
      "metadata": {
        "id": "2ITy4ycVFXBq"
      }
    },
    {
      "cell_type": "markdown",
      "source": [
        "# 1. Exercising tuples\n",
        "\n",
        "1a) Take five inputs from an user and save it in a tuple called ```my_tuple```"
      ],
      "metadata": {
        "id": "uQxH0KO0tsDc"
      }
    },
    {
      "cell_type": "code",
      "source": [
        "# # Method 1: Using separate input statements\n",
        "a = input(\"Enter the first value: \")\n",
        "b = input(\"Enter the second value: \")\n",
        "c = input(\"Enter the third value: \")\n",
        "d = input(\"Enter the fourth value: \")\n",
        "e = input(\"Enter the fifth value: \")\n",
        "\n",
        "my_tuple = (a, b, c, d, e)\n",
        "print(\"The tuple is:\", my_tuple)\n",
        "# Method 1: Using separate input statements\n",
        "a = input(\"Enter the first value: \")\n",
        "b = input(\"Enter the second value: \")\n",
        "c = input(\"Enter the third value: \")\n",
        "d = input(\"Enter the fourth value: \")\n",
        "e = input(\"Enter the fifth value: \")\n",
        "\n",
        "my_tuple = (a, b, c, d, e)\n",
        "print(\"The tuple is:\", my_tuple)\n"
      ],
      "metadata": {
        "id": "rRTflD1C9mjt",
        "outputId": "33a44b79-a18f-44a1-a440-6eeb02d862b8",
        "colab": {
          "base_uri": "https://localhost:8080/"
        }
      },
      "execution_count": 1,
      "outputs": [
        {
          "output_type": "stream",
          "name": "stdout",
          "text": [
            "Enter the first value: my_tuple\n",
            "Enter the second value: my_tuple\n",
            "Enter the third value: my_tuple\n",
            "Enter the fourth value: my_tuple\n",
            "Enter the fifth value: my_tuple\n",
            "The tuple is: ('my_tuple', 'my_tuple', 'my_tuple', 'my_tuple', 'my_tuple')\n",
            "Enter the first value: my_tuple\n",
            "Enter the second value: my_tuple\n",
            "Enter the third value: my_tuple\n",
            "Enter the fourth value: my_tuple\n",
            "Enter the fifth value: my_tuple\n",
            "The tuple is: ('my_tuple', 'my_tuple', 'my_tuple', 'my_tuple', 'my_tuple')\n"
          ]
        }
      ]
    },
    {
      "cell_type": "markdown",
      "source": [
        "1b. How do you assign a single element in a tuple?"
      ],
      "metadata": {
        "id": "0jkTuRdlA6sk"
      }
    },
    {
      "cell_type": "code",
      "source": [
        "# # Suppose we have a tuple:\n",
        "my_tuple = (1, 2, 3, 4, 5)\n",
        "\n",
        "# Convert to a list to change an element:\n",
        "temp_list = list(my_tuple)\n",
        "temp_list[2] = 99  # Change the element at index 2\n",
        "\n",
        "# Convert back to a tuple:\n",
        "my_tuple = tuple(temp_list)\n",
        "print(my_tuple)  # Output: (1, 2, 99, 4, 5)\n"
      ],
      "metadata": {
        "id": "8ZIVOfAMQt2Z",
        "outputId": "b9482e40-8a03-406b-fca6-530c39a4c35f",
        "colab": {
          "base_uri": "https://localhost:8080/"
        }
      },
      "execution_count": 2,
      "outputs": [
        {
          "output_type": "stream",
          "name": "stdout",
          "text": [
            "(1, 2, 99, 4, 5)\n"
          ]
        }
      ]
    },
    {
      "cell_type": "markdown",
      "source": [
        "1c. ```my_tuple = (1,2,3,4,3,2,1,2,3,5,4,3,2,1)```\n",
        "Count the repeated integers and print the result on the console."
      ],
      "metadata": {
        "id": "Wv1LOaouA_Gq"
      }
    },
    {
      "cell_type": "code",
      "source": [
        "#my_tuple = (1,2,3,4,3,2,1,2,3,5,4,3,2,1)\n",
        "counts = {}\n",
        "for number in my_tuple:\n",
        "    if number in counts:\n",
        "        counts[number] += 1\n",
        "    else:\n",
        "        counts[number] = 1\n",
        "\n",
        "# Print the repeated integers and their counts\n",
        "for number, count in counts.items():\n",
        "    if count > 1:\n",
        "        print(f\"{number} is repeated {count} times\")\n"
      ],
      "metadata": {
        "id": "cF0UyMIqQ8V3",
        "outputId": "0be2cc1d-e494-4ead-c167-a86a26a8cb1a",
        "colab": {
          "base_uri": "https://localhost:8080/"
        }
      },
      "execution_count": 5,
      "outputs": [
        {
          "output_type": "stream",
          "name": "stdout",
          "text": [
            "1 is repeated 3 times\n",
            "2 is repeated 4 times\n",
            "3 is repeated 4 times\n",
            "4 is repeated 2 times\n"
          ]
        }
      ]
    },
    {
      "cell_type": "markdown",
      "source": [
        "1d. ```my_tuple = my_tuple + my_tuple```\n",
        "\n",
        "\n",
        "Proof that ```my_tuple``` in part c is different than the ```my_tuple``` in part d.\n"
      ],
      "metadata": {
        "id": "0IWZsl7LBGvD"
      }
    },
    {
      "cell_type": "code",
      "source": [
        "# # Part c: original tuple\n",
        "original_tuple = (1, 2, 3, 4, 3, 2, 1, 2, 3, 5, 4, 3, 2, 1)\n",
        "print(\"Original tuple (Part C):\", original_tuple)\n",
        "print(\"Length of original tuple:\", len(original_tuple))  # Expected: 14\n",
        "\n",
        "# Part d: concatenated tuple\n",
        "my_tuple = original_tuple + original_tuple\n",
        "print(\"\\nConcatenated tuple (Part D):\", my_tuple)\n",
        "print(\"Length of concatenated tuple:\", len(my_tuple))  # Expected: 28\n",
        "\n",
        "# Proof that they are different:\n",
        "if original_tuple != my_tuple:\n",
        "    print(\"\\nProof: The concatenated tuple is different from the original tuple.\")\n",
        "else:\n",
        "    print(\"\\nThe tuples are the same (which should not happen).\")\n"
      ],
      "metadata": {
        "id": "S5kO371-Q_NL",
        "outputId": "ae4618c9-3f94-4074-b676-4acfd6821bb8",
        "colab": {
          "base_uri": "https://localhost:8080/"
        }
      },
      "execution_count": 6,
      "outputs": [
        {
          "output_type": "stream",
          "name": "stdout",
          "text": [
            "Original tuple (Part C): (1, 2, 3, 4, 3, 2, 1, 2, 3, 5, 4, 3, 2, 1)\n",
            "Length of original tuple: 14\n",
            "\n",
            "Concatenated tuple (Part D): (1, 2, 3, 4, 3, 2, 1, 2, 3, 5, 4, 3, 2, 1, 1, 2, 3, 4, 3, 2, 1, 2, 3, 5, 4, 3, 2, 1)\n",
            "Length of concatenated tuple: 28\n",
            "\n",
            "Proof: The concatenated tuple is different from the original tuple.\n"
          ]
        }
      ]
    },
    {
      "cell_type": "markdown",
      "source": [
        "1e. Explain why the following operations aren’t legal for\n",
        "the tuple. Answer without using the Python.\n",
        "```\n",
        "x = (1,2,3,4)\n",
        "x.append(1)\n",
        "x[1] = \"hello\"\n",
        "del x[2]\n",
        "```"
      ],
      "metadata": {
        "id": "gdub5W3O0isl"
      }
    },
    {
      "cell_type": "markdown",
      "source": [
        "# x.append(1) is like trying to stick a new sticker on the sheet—it’s not allowed.\n",
        "x[1] = \"hello\" is like trying to change one of the stickers to a different sticker—you can’t do that.\n",
        "del x[2] is like trying to peel off a sticker—you’re not allowed to remove any sticker."
      ],
      "metadata": {
        "id": "sLoX5Dtt0_rX"
      }
    },
    {
      "cell_type": "markdown",
      "source": [
        "# 2. Packing and unpacking tuples"
      ],
      "metadata": {
        "id": "tJlIQIYjBPLX"
      }
    },
    {
      "cell_type": "markdown",
      "source": [
        "Python permits tuples to appear on the left side of an assignment operator, in which case variables in the tuple receive the corresponding values from the tuple on the right side of the assignment operator. Here’s a simple example:"
      ],
      "metadata": {
        "id": "QkNQDkq7zAOr"
      }
    },
    {
      "cell_type": "code",
      "source": [
        "(one, two, three, four) =  (1, 2, 3, 4)"
      ],
      "metadata": {
        "id": "70JnWsa6zE0M"
      },
      "execution_count": null,
      "outputs": []
    },
    {
      "cell_type": "markdown",
      "source": [
        "2a. What is the data type of each variable?\n",
        "\n",
        " Python puts the first toy (1) into the box named one, the second toy (2) into the box named two, the third toy (3) into the box named three, and the fourth toy (4) into the box named four.\n",
        "\n",
        "It’s just like giving each box its matching toy.\n",
        "\n"
      ],
      "metadata": {
        "id": "O0-uz6MdzJ4a"
      }
    },
    {
      "cell_type": "markdown",
      "source": [
        "2b. Python has an extended unpacking feature, allowing an element marked with * to absorb any number of elements not matching the other elements. For example,"
      ],
      "metadata": {
        "id": "6vXaWJBczn5u"
      }
    },
    {
      "cell_type": "code",
      "source": [
        "x = (1, 2, 3, 4)\n",
        "a, b, *c = x\n",
        "a, b, c"
      ],
      "metadata": {
        "colab": {
          "base_uri": "https://localhost:8080/"
        },
        "id": "Dkgby1wqzyx8",
        "outputId": "2e4d4c4f-a006-4c95-c319-97c2af2d4c7b"
      },
      "execution_count": 7,
      "outputs": [
        {
          "output_type": "execute_result",
          "data": {
            "text/plain": [
              "(1, 2, [3, 4])"
            ]
          },
          "metadata": {},
          "execution_count": 7
        }
      ]
    },
    {
      "cell_type": "markdown",
      "source": [
        "2c. What will be the result of ```a, *b, c = x```?"
      ],
      "metadata": {
        "id": "l9xBGV0K0L6_"
      }
    },
    {
      "cell_type": "code",
      "source": [
        "# a, *b, c = (1, 2, 3, 4)\n"
      ],
      "metadata": {
        "id": "fQr5X9N0RceU"
      },
      "execution_count": 8,
      "outputs": []
    },
    {
      "cell_type": "markdown",
      "source": [
        "# 3. Memory management\n",
        "\n",
        "```\n",
        "my_x = [100,200,300,400]\n",
        "my_y = (200,300,400,500)\n",
        "\n",
        "```\n",
        "Discuss how memory addresses are assigned to each index of the list and the tuple. Pay attention to new addresses & re-used addresses.\n",
        "\n",
        "| Index | my_x | my_x |\n",
        "|   -   |  -   |  -   |\n",
        "|   0   |100     200  -   |\n",
        "|   1   |200|  300\n",
        "|   2   | 300  -  |400-   |\n",
        "|   3   | 400 |  500 |\n",
        "\n"
      ],
      "metadata": {
        "id": "QV96NnL82MPT"
      }
    },
    {
      "cell_type": "markdown",
      "source": [
        "## Challenges\n",
        "\n",
        "Please describe the challenges you faced during the exercise."
      ],
      "metadata": {
        "id": "xQzjxKdvvbyo"
      }
    },
    {
      "cell_type": "markdown",
      "source": [
        "I had a few challenges in this exercise. One challenge was explaining tricky ideas like memory addresses and how Python uses the same “house” (memory) for the same number. It was like trying to tell a story about where numbers live, and I had to choose very simple words so everyone can understand. Another challenge was making sure the explanation was fun and easy, almost like playing with puzzles. I worked hard to make everything clear and friendly, even when the ideas were a bit hard to explain."
      ],
      "metadata": {
        "id": "qfJNpTB5EbY4"
      }
    }
  ]
}