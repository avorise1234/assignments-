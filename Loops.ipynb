{
  "nbformat": 4,
  "nbformat_minor": 0,
  "metadata": {
    "colab": {
      "provenance": [],
      "include_colab_link": true
    },
    "kernelspec": {
      "name": "python3",
      "display_name": "Python 3"
    },
    "language_info": {
      "name": "python"
    }
  },
  "cells": [
    {
      "cell_type": "markdown",
      "metadata": {
        "id": "view-in-github",
        "colab_type": "text"
      },
      "source": [
        "<a href=\"https://colab.research.google.com/github/avorise1234/assignments-/blob/main/Loops.ipynb\" target=\"_parent\"><img src=\"https://colab.research.google.com/assets/colab-badge.svg\" alt=\"Open In Colab\"/></a>"
      ]
    },
    {
      "cell_type": "markdown",
      "source": [
        "# Loops in Python\n",
        "\n",
        "A sequence of instructions that repeats until a certain condition is met\n",
        "\n",
        "## Objective\n",
        "Understand how loops are applied\n",
        "\n",
        "## Prerequisite\n",
        "\n",
        "- Decision statements\n",
        "- Input functions\n",
        "- Python literals\n",
        "- Programming variables\n",
        "\n",
        "## What do you need to complete this exercise?\n",
        "\n",
        "You can perform this exercise in any Python IDE, including JupyterLab or Google Colab.\n"
      ],
      "metadata": {
        "id": "2ITy4ycVFXBq"
      }
    },
    {
      "cell_type": "markdown",
      "source": [
        "### While loop\n",
        "\n",
        "a. Please write Python code using a while loop to perform the following steps.\n",
        "\n",
        "1. Take any non-negative and non-zero integer number and name it ```n0```\n",
        "2. if the number is even, evaluate a new ```n0``` as ```n0 ÷ 2```;\n",
        "3. Otherwise, if the number is odd, evaluate a new ```n0``` as ```3 * n0 + 1```;\n",
        "4. if ```n0``` is not equal to 1, go to point 2.\n",
        "\n",
        "#### Sample input: ```16```\n",
        "\n",
        "#### Expected output: ###\n",
        "\n",
        "```\n",
        "8\n",
        "4\n",
        "2\n",
        "1\n",
        "steps = 4\n",
        "```"
      ],
      "metadata": {
        "id": "uQxH0KO0tsDc"
      }
    },
    {
      "cell_type": "code",
      "source": [
        "## Get input from the user and assign it to the variable 'n'\n",
        "n = int(input(\"Enter a positive integer: \"))\n",
        "\n",
        "# Ensure the input is a positive integer\n",
        "if n <= 0:\n",
        "    print(\"Please enter a positive integer.\")\n",
        "else:\n",
        "    steps = 0  # Step counter\n",
        "\n",
        "    # Loop until n becomes 1\n",
        "    while n != 1:\n",
        "        print(n)  # Print current value of n\n",
        "\n",
        "        if n % 2 == 0:  # If n is even, divide by 2\n",
        "            n //= 2\n",
        "        else:  # If n is odd, apply 3n + 1\n",
        "            n = 3 * n + 1\n",
        "\n",
        "        steps += 1  # Increment step counter\n",
        "\n",
        "    # Print the final 1 and total step count\n",
        "    print(n)\n",
        "    print(\"Steps =\", steps)\n"
      ],
      "metadata": {
        "id": "5M7ksW8xsC3k",
        "outputId": "f072c014-23ad-42e3-984d-af08b5865bd3",
        "colab": {
          "base_uri": "https://localhost:8080/"
        }
      },
      "execution_count": 2,
      "outputs": [
        {
          "output_type": "stream",
          "name": "stdout",
          "text": [
            "Enter a positive integer: 16\n",
            "16\n",
            "8\n",
            "4\n",
            "2\n",
            "1\n",
            "Steps = 4\n"
          ]
        }
      ]
    },
    {
      "cell_type": "markdown",
      "source": [
        "b. Write code that uses a while loop and runs indefinitely. Modify the same code to resolve the infinite loop issue."
      ],
      "metadata": {
        "id": "S3X6hdy5sI-s"
      }
    },
    {
      "cell_type": "code",
      "source": [
        "# Get input from the user and assign it to the variable 'n'\n",
        "n = int(input(\"Enter a positive integer: \"))\n",
        "\n",
        "# Ensure the input is a positive integer\n",
        "if n <= 0:\n",
        "    print(\"Please enter a positive integer.\")\n",
        "else:\n",
        "    max_iterations = 100  # Set a maximum number of iterations\n",
        "    iteration_count = 0  # Initialize the iteration counter\n",
        "\n",
        "    # Loop until max_iterations is reached or n becomes 1\n",
        "    while iteration_count < max_iterations:\n",
        "        print(n)  # Print current value of n\n",
        "\n",
        "        if n % 2 == 0:\n",
        "            n = n // 2  # If n is even, divide by 2\n",
        "        else:\n",
        "            n = 3 * n + 1  # If n is odd, apply 3n + 1\n",
        "\n",
        "        iteration_count += 1  # Increment the iteration counter\n",
        "\n",
        "        # Break the loop if n becomes 1\n",
        "        if n == 1:\n",
        "            print(n)  # Print the final value of n (1)\n",
        "            break\n",
        "\n",
        "    print(\"Loop finished after\", iteration_count, \"iterations.\")\n"
      ],
      "metadata": {
        "id": "cs0pk1_qsNY0",
        "outputId": "3c0e67d2-d413-4803-f38a-06272ae2c1b2",
        "colab": {
          "base_uri": "https://localhost:8080/"
        }
      },
      "execution_count": 4,
      "outputs": [
        {
          "output_type": "stream",
          "name": "stdout",
          "text": [
            "Enter a positive integer: 1\n",
            "1\n",
            "4\n",
            "2\n",
            "1\n",
            "Loop finished after 3 iterations.\n"
          ]
        }
      ]
    },
    {
      "cell_type": "markdown",
      "source": [
        "c. Write a program that takes two integers as input and asks the user to choose an arithmetic operation to perform with those numbers. At the end of the program, prompt the user with the question, \"Do you want to continue?\" If the user selects \"Y\" or \"y,\" the program should restart; otherwise, it should exit and display the message, \"Have a good day.\""
      ],
      "metadata": {
        "id": "oxXvMBKNsX8M"
      }
    },
    {
      "cell_type": "code",
      "source": [
        "while True:  # Loop to allow continuous calculations\n",
        "    # Get two numbers from the user\n",
        "    num1 = float(input(\"Enter the first number: \"))\n",
        "    num2 = float(input(\"Enter the second number: \"))\n",
        "\n",
        "    # Ask for the operation\n",
        "    operation = input(\"Choose an operation (+, -, *, /): \").strip()\n",
        "\n",
        "    # Perform the operation\n",
        "    if operation == \"+\":\n",
        "        result = num1 + num2\n",
        "    elif operation == \"-\":\n",
        "        result = num1 - num2\n",
        "    elif operation == \"*\":\n",
        "        result = num1 * num2\n",
        "    elif operation == \"/\" and num2 != 0:\n",
        "        result = num1 / num2\n",
        "    else:\n",
        "        print(\"Invalid operation or division by zero.\")\n",
        "        continue  # Restart the loop if input is invalid\n",
        "\n",
        "    # Display the result\n",
        "    print(\"Result:\", result)\n",
        "\n",
        "    # Ask if the user wants to continue\n",
        "    choice = input(\"Do you want to continue? (Y/N): \").strip().lower()\n",
        "    if choice != \"y\":\n",
        "        print(\"Have a good day.\")\n",
        "        break  # Exit the loop if user chooses not to continue\n"
      ],
      "metadata": {
        "id": "w9Ai1I_JsYw9",
        "outputId": "8d43c4c4-42e1-488e-889f-10bcc04df88f",
        "colab": {
          "base_uri": "https://localhost:8080/"
        }
      },
      "execution_count": 5,
      "outputs": [
        {
          "output_type": "stream",
          "name": "stdout",
          "text": [
            "Enter the first number: 10\n",
            "Enter the second number: 2\n",
            "Choose an operation (+, -, *, /): 4\n",
            "Invalid operation or division by zero.\n",
            "Enter the first number: 10\n",
            "Enter the second number: 2\n",
            "Choose an operation (+, -, *, /): -\n",
            "Result: 8.0\n",
            "Do you want to continue? (Y/N): y\n",
            "Enter the first number: 8\n",
            "Enter the second number: 4\n",
            "Choose an operation (+, -, *, /): *\n",
            "Result: 32.0\n",
            "Do you want to continue? (Y/N): n\n",
            "Have a good day.\n"
          ]
        }
      ]
    },
    {
      "cell_type": "markdown",
      "source": [
        "### 2. For loops\n",
        "\n",
        "a. Write a code that counts the total number of characters in a text and also counts each character individually. For example, consider the sentence \"To be, or not to be, that is the question.\" The code should determine the total number of letters and how many times each letter appears, including specific counts for the letters 't' and 'o', etc. Ignore the upper and lower cases letters, and any punctuations symbols. Use only for loop, while loop, break and continue statements where necessary.\n",
        "\n",
        "#### Sample input: ```To be, or not to be, that is the question```\n",
        "\n",
        "#### Expected output: ###\n",
        "\n",
        "```\n",
        "Total number of alphabets: 30\n",
        "Total number of distinct alphabets are:\n",
        "T = 7\n",
        "o = 4\n",
        "```\n",
        "> **Note:** The expected output above is incomplete.\n"
      ],
      "metadata": {
        "id": "IeiOBf1Tse1c"
      }
    },
    {
      "cell_type": "code",
      "source": [
        "# # Get input text and convert to lowercase\n",
        "text = input(\"Enter a sentence: \").lower()\n",
        "\n",
        "# Initialize a list to store letter counts (26 elements, one for each letter 'a' to 'z')\n",
        "letter_counts = [0] * 26\n",
        "\n",
        "# Count letters using a for loop\n",
        "for char in text:\n",
        "    if 'a' <= char <= 'z':  # Only count letters (ignore spaces & punctuation)\n",
        "        index = ord(char) - ord('a')  # Convert letter to an index (0 for 'a', 1 for 'b', ..., 25 for 'z')\n",
        "        letter_counts[index] += 1\n",
        "\n",
        "# Calculate the total number of letters\n",
        "total_letters = 0\n",
        "for count in letter_counts:\n",
        "    total_letters += count\n",
        "\n",
        "print(\"Total number of alphabets:\", total_letters)\n",
        "\n",
        "# Print individual letter counts\n",
        "print(\"Total number of distinct alphabets are:\")\n",
        "for i in range(26):  # Loop through each letter index\n",
        "    if letter_counts[i] > 0:  # Print only letters that appear\n",
        "        print(chr(i + ord('a')), \"=\", letter_counts[i])\n",
        "\n"
      ],
      "metadata": {
        "id": "FprfxHfksh2-",
        "outputId": "be72d902-17af-48dc-8b16-d929cc623491",
        "colab": {
          "base_uri": "https://localhost:8080/"
        }
      },
      "execution_count": 6,
      "outputs": [
        {
          "output_type": "stream",
          "name": "stdout",
          "text": [
            "Enter a sentence: hello world\n",
            "Total number of alphabets: 10\n",
            "Total number of distinct alphabets are:\n",
            "d = 1\n",
            "e = 1\n",
            "h = 1\n",
            "l = 3\n",
            "o = 2\n",
            "r = 1\n",
            "w = 1\n"
          ]
        }
      ]
    },
    {
      "cell_type": "markdown",
      "source": [
        "## Challenges\n",
        "\n",
        "Please describe the challenges you faced during the exercise."
      ],
      "metadata": {
        "id": "xQzjxKdvvbyo"
      }
    },
    {
      "cell_type": "markdown",
      "source": [
        "write your challenges here Avoiding mistakes - If I typed something wrong, the program wouldn't work.\n",
        "Dividing by zero - I learned that dividing by zero is not allowed, so I had to fix that.\n",
        "Repeating the program - At first, the program stopped after one calculation. I had to add a loop to make it run again."
      ],
      "metadata": {
        "id": "qfJNpTB5EbY4"
      }
    }
  ]
}