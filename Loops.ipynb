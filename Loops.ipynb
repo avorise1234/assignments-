{
  "nbformat": 4,
  "nbformat_minor": 0,
  "metadata": {
    "colab": {
      "provenance": [],
      "include_colab_link": true
    },
    "kernelspec": {
      "name": "python3",
      "display_name": "Python 3"
    },
    "language_info": {
      "name": "python"
    }
  },
  "cells": [
    {
      "cell_type": "markdown",
      "metadata": {
        "id": "view-in-github",
        "colab_type": "text"
      },
      "source": [
        "<a href=\"https://colab.research.google.com/github/avorise1234/assignments-/blob/main/Loops.ipynb\" target=\"_parent\"><img src=\"https://colab.research.google.com/assets/colab-badge.svg\" alt=\"Open In Colab\"/></a>"
      ]
    },
    {
      "cell_type": "markdown",
      "source": [
        "# Loops in Python\n",
        "\n",
        "A sequence of instructions that repeats until a certain condition is met\n",
        "\n",
        "## Objective\n",
        "Understand how loops are applied\n",
        "\n",
        "## Prerequisite\n",
        "\n",
        "- Decision statements\n",
        "- Input functions\n",
        "- Python literals\n",
        "- Programming variables\n",
        "\n",
        "## What do you need to complete this exercise?\n",
        "\n",
        "You can perform this exercise in any Python IDE, including JupyterLab or Google Colab.\n"
      ],
      "metadata": {
        "id": "2ITy4ycVFXBq"
      }
    },
    {
      "cell_type": "markdown",
      "source": [
        "### While loop\n",
        "\n",
        "a. Please write Python code using a while loop to perform the following steps.\n",
        "\n",
        "1. Take any non-negative and non-zero integer number and name it ```n0```\n",
        "2. if the number is even, evaluate a new ```n0``` as ```n0 ÷ 2```;\n",
        "3. Otherwise, if the number is odd, evaluate a new ```n0``` as ```3 * n0 + 1```;\n",
        "4. if ```n0``` is not equal to 1, go to point 2.\n",
        "\n",
        "#### Sample input: ```16```\n",
        "\n",
        "#### Expected output: ###\n",
        "\n",
        "```\n",
        "8\n",
        "4\n",
        "2\n",
        "1\n",
        "steps = 4\n",
        "```"
      ],
      "metadata": {
        "id": "uQxH0KO0tsDc"
      }
    },
    {
      "cell_type": "code",
      "source": [
        "# Take a non-negative, non-zero integer as input\n",
        "n = int(input(\"Enter a number: \"))\n",
        "steps = 0 # Step Counter\n",
        "\n",
        "# Loop until n becomes 1\n",
        "while n !=1:\n",
        "    print(n)  # Print current value of n\n",
        "\n",
        "    if n % 2 == 0: # If n is even, divide by 2\n",
        "        n = n // 2\n",
        "    else: # If n is odd, apply 3n + 1\n",
        "        n = 3 * n +1\n",
        "\n",
        "    steps += 1 # Increase stop count\n",
        "\n",
        "# Print the finalo 1 and step count\n",
        "print(n)\n",
        "print(\"steps =\", steps)"
      ],
      "metadata": {
        "id": "5M7ksW8xsC3k",
        "outputId": "908cedea-8839-4ce5-aebe-6efcfeedc9a1",
        "colab": {
          "base_uri": "https://localhost:8080/"
        }
      },
      "execution_count": 1,
      "outputs": [
        {
          "output_type": "stream",
          "name": "stdout",
          "text": [
            "Enter a number: 16\n",
            "16\n",
            "8\n",
            "4\n",
            "2\n",
            "1\n",
            "steps = 4\n"
          ]
        }
      ]
    },
    {
      "cell_type": "markdown",
      "source": [
        "b. Write code that uses a while loop and runs indefinitely. Modify the same code to resolve the infinite loop issue."
      ],
      "metadata": {
        "id": "S3X6hdy5sI-s"
      }
    },
    {
      "cell_type": "code",
      "source": [
        "n = int(input(\"Enter a number:\"))\n",
        "max_iterations = 100  # Set a maximum number of iterations\n",
        "iteration_count = 0\n",
        "\n",
        "while iteration_count < max_iterations:  # Loop until max_iterations is reached\n",
        "    print(n)\n",
        "    if n % 2 == 0:\n",
        "        n = n // 2\n",
        "    else:\n",
        "        n = 3 * n + 1\n",
        "\n",
        "    iteration_count += 1  # Increment the iteration counter\n",
        "\n",
        "    # Add a condition to break the loop if n becomes 1\n",
        "    if n == 1:\n",
        "        break\n",
        "\n",
        "print(\"Loop finished after\", iteration_count, \"iterations.\")"
      ],
      "metadata": {
        "id": "cs0pk1_qsNY0",
        "outputId": "3bcb7832-49f7-4cbd-f9d9-59eb49b8a718",
        "colab": {
          "base_uri": "https://localhost:8080/"
        }
      },
      "execution_count": 3,
      "outputs": [
        {
          "output_type": "stream",
          "name": "stdout",
          "text": [
            "Enter a number:2\n",
            "2\n",
            "Loop finished after 1 iterations.\n"
          ]
        }
      ]
    },
    {
      "cell_type": "markdown",
      "source": [
        "c. Write a program that takes two integers as input and asks the user to choose an arithmetic operation to perform with those numbers. At the end of the program, prompt the user with the question, \"Do you want to continue?\" If the user selects \"Y\" or \"y,\" the program should restart; otherwise, it should exit and display the message, \"Have a good day.\""
      ],
      "metadata": {
        "id": "oxXvMBKNsX8M"
      }
    },
    {
      "cell_type": "code",
      "source": [
        "# # Get two numbers from the user\n",
        "num1 = float(input(\"Enter the first number: \"))\n",
        "num2 = float(input(\"Enter the second number \"))\n",
        "\n",
        "# Ask  for the operation\n",
        "operation = input(\"choose) an operation (+,-,*,/):\")\n",
        "\n",
        "# perform the operation\n",
        "if operation == \"+\":\n",
        "    result = num1  + num2\n",
        "elif operation  == \"-\":\n",
        "     result = num1 - num2\n",
        "elif operation == \"*\":\n",
        "     result = num1 * num2\n",
        "elif operation == \"/\" and num2 !=0:\n",
        "    result = num1 / num2\n",
        "# Get two numbers from the user\n",
        "num1 = float(input(\"Enter the first number: \"))\n",
        "num2 = float(input(\"Enter the second number: \"))\n",
        "\n",
        "# Ask  for the operation\n",
        "operation = input(\"choose an operation (+,-,*,/):\")\n",
        "\n",
        "# perform the operation\n",
        "if operation == \"+\":\n",
        "    result = num1  + num2\n",
        "elif operation  == \"-\":\n",
        "     result = num1 - num2\n",
        "elif operation == \"*\":\n",
        "     result = num1 * num2\n",
        "elif operation == \"/\" and num2 !=0:\n",
        "    result = num1 / num2\n",
        "else:\n",
        "    print (\"Invalid operation or division by zero.\")\n",
        "    #continue # Restart the loop if input is invalid - this was causing an error as it was outside of a loop\n",
        "    exit() # Exit the program instead\n",
        "\n",
        "# Display the result\n",
        "print(f\"Result: {result}\")\n",
        "\n",
        "#Ask if the user wants to cntinue\n",
        "choice = input(\"Do you want to continue? (Y/N): \").strip().lower()\n",
        "if choice !=\"y\":\n",
        "    print(\"Have a good day.\")\n",
        "    #break  # Exit the loop - this was causing an error because it was outside a loop\n",
        "    exit() # Exit the program instead\n",
        "print(f\"Result: {result}\")\n",
        "\n",
        "#Ask if the user wants to cntinue\n",
        "choice = input(\"Do you want to continue? (Y/N): \").strip().lower()\n",
        "# Get two numbers from the user\n",
        "num1 = float(input(\"Enter the first number: \"))\n",
        "num2 = float(input(\"Enter the second number \"))\n",
        "\n",
        "# Ask  for the operation\n",
        "operation = input(\"choose) an operation (+,-,*,/):\")\n",
        "\n",
        "# perform the operation\n",
        "if operation == \"+\":\n",
        "    result = num1  + num2\n",
        "elif operation  == \"-\":\n",
        "     result = num1 - num2\n",
        "elif operation == \"*\":\n",
        "     result = num1 * num2\n",
        "elif operation == \"/\" and num2 !=0:\n",
        "    result = num1 / num2\n",
        "# Get two numbers from the user\n",
        "num1 = float(input(\"Enter the first number: \"))\n",
        "num2 = float(input(\"Enter the second number: \"))\n",
        "\n",
        "# Ask  for the operation\n",
        "operation = input(\"choose an operation (+,-,*,/):\")\n",
        "\n",
        "# perform the operation\n",
        "if operation == \"+\":\n",
        "    result = num1  + num2\n",
        "elif operation  == \"-\":\n",
        "     result = num1 - num2\n",
        "elif operation == \"*\":\n",
        "     result = num1 * num2\n",
        "elif operation == \"/\" and num2 !=0:\n",
        "    result = num1 / num2\n",
        "else:\n",
        "    print (\"Invalid operation or division by zero.\")\n",
        "    #continue # Restart the loop if input is invalid - this was causing an error as it was outside of a loop\n",
        "    exit() # Exit the program instead\n",
        "\n",
        "# Display the result\n",
        "print(f\"Result: {result}\")\n",
        "\n",
        "#Ask if the user wants to cntinue\n",
        "choice = input(\"Do you want to continue? (Y/N): \").strip().lower()\n",
        "if choice !=\"y\":\n",
        "    print(\"Have a good day.\")\n",
        "    #break  # Exit the loop - this was causing an error because it was outside a loop\n",
        "    exit() # Exit the program instead\n",
        "print(f\"Result: {result}\")\n",
        "\n",
        "#Ask if the user wants to cntinue\n",
        "choice = input(\"Do you want to continue? (Y/N): \").strip().lower()\n",
        "if choice !=\"y\":\n",
        "    print(\"Have a good day.\")\n",
        "    'break'  # Exit the loop\n",
        "    exit()"
      ],
      "metadata": {
        "id": "w9Ai1I_JsYw9",
        "outputId": "0a6030e9-e543-45fe-9f05-d1a3e226b75d",
        "colab": {
          "base_uri": "https://localhost:8080/"
        }
      },
      "execution_count": 11,
      "outputs": [
        {
          "name": "stdout",
          "output_type": "stream",
          "text": [
            "Enter the first number: 8\n",
            "Enter the second number 4\n",
            "choose) an operation (+,-,*,/):+\n",
            "Enter the first number: 10\n",
            "Enter the second number: 2\n",
            "choose an operation (+,-,*,/):*\n",
            "Result: 20.0\n",
            "Do you want to continue? (Y/N): Y\n",
            "Result: 20.0\n",
            "Do you want to continue? (Y/N): Y\n",
            "Enter the first number: 8\n",
            "Enter the second number 4\n",
            "choose) an operation (+,-,*,/):+\n",
            "Enter the first number: 10\n",
            "Enter the second number: 2\n",
            "choose an operation (+,-,*,/):/\n",
            "Result: 5.0\n",
            "Do you want to continue? (Y/N): Y\n",
            "Result: 5.0\n",
            "Do you want to continue? (Y/N): Y\n"
          ]
        }
      ]
    },
    {
      "cell_type": "markdown",
      "source": [
        "### 2. For loops\n",
        "\n",
        "a. Write a code that counts the total number of characters in a text and also counts each character individually. For example, consider the sentence \"To be, or not to be, that is the question.\" The code should determine the total number of letters and how many times each letter appears, including specific counts for the letters 't' and 'o', etc. Ignore the upper and lower cases letters, and any punctuations symbols. Use only for loop, while loop, break and continue statements where necessary.\n",
        "\n",
        "#### Sample input: ```To be, or not to be, that is the question```\n",
        "\n",
        "#### Expected output: ###\n",
        "\n",
        "```\n",
        "Total number of alphabets: 30\n",
        "Total number of distinct alphabets are:\n",
        "T = 7\n",
        "o = 4\n",
        "```\n",
        "> **Note:** The expected output above is incomplete.\n"
      ],
      "metadata": {
        "id": "IeiOBf1Tse1c"
      }
    },
    {
      "cell_type": "code",
      "source": [
        "# Get input text and convert to lowercase\n",
        "text = input(\"Enter a sentence: \").lower()\n",
        "\n",
        "# Initialize letter counter dictionary\n",
        "letter_counts = {}\n",
        "\n",
        "# Count letters using a for loop\n",
        "for char in text:\n",
        "    if char.isalpha():  # Only count letters (ignore spaces & punctuation)\n",
        "        letter_counts[char] = letter_counts.get(char, 0) + 1\n",
        "\n",
        "# Print total number of letters\n",
        "total_letters = sum(letter_counts.values())\n",
        "print(f\"Total number of alphabets: {total_letters}\")\n",
        "\n",
        "# Print individual letter counts\n",
        "print(\"Total number of distinct alphabets are:\")\n",
        "for letter, count in sorted(letter_counts.items()):\n",
        "    print(f\"{letter} = {count}\")\n",
        ""
      ],
      "metadata": {
        "id": "FprfxHfksh2-",
        "outputId": "005d5306-451a-4e17-df7f-e0a8469c8595",
        "colab": {
          "base_uri": "https://localhost:8080/"
        }
      },
      "execution_count": 12,
      "outputs": [
        {
          "output_type": "stream",
          "name": "stdout",
          "text": [
            "Enter a sentence: To be, or not to be, that is the question \n",
            "Total number of alphabets: 30\n",
            "Total number of distinct alphabets are:\n",
            "a = 1\n",
            "b = 2\n",
            "e = 4\n",
            "h = 2\n",
            "i = 2\n",
            "n = 2\n",
            "o = 5\n",
            "q = 1\n",
            "r = 1\n",
            "s = 2\n",
            "t = 7\n",
            "u = 1\n"
          ]
        }
      ]
    },
    {
      "cell_type": "markdown",
      "source": [
        "## Challenges\n",
        "\n",
        "Please describe the challenges you faced during the exercise."
      ],
      "metadata": {
        "id": "xQzjxKdvvbyo"
      }
    },
    {
      "cell_type": "markdown",
      "source": [
        "write your challenges here Avoiding mistakes - If I typed something wrong, the program wouldn't work.\n",
        "Dividing by zero - I learned that dividing by zero is not allowed, so I had to fix that.\n",
        "Repeating the program - At first, the program stopped after one calculation. I had to add a loop to make it run again."
      ],
      "metadata": {
        "id": "qfJNpTB5EbY4"
      }
    }
  ]
}