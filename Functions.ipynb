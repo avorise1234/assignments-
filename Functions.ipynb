{
  "nbformat": 4,
  "nbformat_minor": 0,
  "metadata": {
    "colab": {
      "provenance": [],
      "include_colab_link": true
    },
    "kernelspec": {
      "name": "python3",
      "display_name": "Python 3"
    },
    "language_info": {
      "name": "python"
    }
  },
  "cells": [
    {
      "cell_type": "markdown",
      "metadata": {
        "id": "view-in-github",
        "colab_type": "text"
      },
      "source": [
        "<a href=\"https://colab.research.google.com/github/avorise1234/assignments-/blob/main/Functions.ipynb\" target=\"_parent\"><img src=\"https://colab.research.google.com/assets/colab-badge.svg\" alt=\"Open In Colab\"/></a>"
      ]
    },
    {
      "cell_type": "markdown",
      "source": [
        "# Functions in Python\n",
        "Functions are designed to perform the same task repeatedly. For the user, they operate like a black box, with no visibility into how the function is implemented. Users provide compatible arguments to the function, or in some cases, no arguments at all, and the function executes according to the programmer's implementation.\n",
        "\n",
        "## Objective\n",
        "- Understand how arguments are used in functions\n",
        "- Function variables visibility and global variables\n",
        "- Troubleshoot functions\n",
        "\n",
        "## Prerequisite\n",
        "\n",
        "- Lists & tuples\n",
        "- Decision and loops\n",
        "\n",
        "\n",
        "## What do you need to complete this exercise?\n",
        "\n",
        "You can perform this exercise in any Python IDE, including JupyterLab or Google Colab.\n"
      ],
      "metadata": {
        "id": "2ITy4ycVFXBq"
      }
    },
    {
      "cell_type": "markdown",
      "source": [
        "# Create a unit conversion program using functions\n",
        "1a. The user selects kilometers per liter (kpl), and the response will be provided in miles per gallon (mpg). The units must be interchangeable, so the program will ask the user whether to convert from kpl to mpg or vice versa.\n",
        "\n",
        "The program will prompt the user for input and deliver output with the appropriate units.\n",
        "\n",
        "Additionally, the program will include input validation. For example, it will not accept letter inputs and will provide an error message to the user when invalid input is detected.\n",
        "\n",
        "The function will also allow multiple arguments, enabling the user to convert multiple values at once.\n",
        "\n",
        "Research and find out the conversion factor between the units."
      ],
      "metadata": {
        "id": "uQxH0KO0tsDc"
      }
    },
    {
      "cell_type": "code",
      "source": [
        "def get_valid_input():\n",
        "    while True:\n",
        "        try:\n",
        "            value = float(input(\"Enter a numeric value: \"))\n",
        "            return value\n",
        "        except ValueError:\n",
        "            print(\"Invalid input! Please enter a numeric value.\")\n",
        "\n",
        "def convert_kpl_to_mpg(num_values):\n",
        "    KPL_TO_MPG = 2.35215\n",
        "    print(f\"Enter {num_values} values in kpl:\")\n",
        "    for _ in range(num_values):\n",
        "        kpl = get_valid_input()\n",
        "        mpg = kpl * KPL_TO_MPG\n",
        "        print(f\"{kpl} kpl = {mpg:.2f} mpg\")\n",
        "\n",
        "def convert_mpg_to_kpl(num_values):\n",
        "    MPG_TO_KPL = 0.425144\n",
        "    print(f\"Enter {num_values} values in mpg:\")\n",
        "    for _ in range(num_values):\n",
        "        mpg = get_valid_input()\n",
        "        kpl = mpg * MPG_TO_KPL\n",
        "        print(f\"{mpg} mpg = {kpl:.2f} kpl\")\n"
      ],
      "metadata": {
        "id": "rRTflD1C9mjt"
      },
      "execution_count": 20,
      "outputs": []
    },
    {
      "source": [
        "def get_valid_input():\n",
        "    while True:\n",
        "        try:\n",
        "            value = float(input(\"Enter a numeric value: \"))\n",
        "            return value\n",
        "        except ValueError:\n",
        "            print(\"Invalid input! Please enter a numeric value.\")\n",
        "\n",
        "def convert_kpl_to_mpg(num_values):\n",
        "    KPL_TO_MPG = 2.35215\n",
        "    print(f\"Enter {num_values} values in kpl:\")\n",
        "    for _ in range(num_values):\n",
        "        kpl = get_valid_input()\n",
        "        mpg = kpl * KPL_TO_MPG\n",
        "        print(f\"{kpl} kpl = {mpg} mpg\")\n",
        "\n",
        "def convert_mpg_to_kpl(num_values):\n",
        "    MPG_TO_KPL = 0.425144\n",
        "    print(f\"Enter {num_values} values in mpg:\")\n",
        "    for _ in range(num_values):\n",
        "        mpg = get_valid_input()\n",
        "        kpl = mpg * MPG_TO_KPL\n",
        "        print(f\"{mpg} mpg = {kpl} kpl\")"
      ],
      "cell_type": "code",
      "metadata": {
        "id": "NZjcuPeP1JYP"
      },
      "execution_count": 5,
      "outputs": []
    },
    {
      "cell_type": "markdown",
      "source": [
        "1b. How would you write a function that could take any number of unnamed arguments and print their values out in reverse order? def print_reversed(*args):\n",
        "    for arg in reversed(args):\n",
        "        print(arg)\n",
        "\n",
        "# Example usage:\n",
        "print_reversed(1, \"hello\", 3.14, True)\n",
        "\n"
      ],
      "metadata": {
        "id": "0jkTuRdlA6sk"
      }
    },
    {
      "cell_type": "markdown",
      "source": [
        "1c. What would be the result of changing a list or dictionary that was passed into a function as a parameter value? Which operations would be likely to create changes that would be visible outside the function? What steps might you take to minimize that risk?\n",
        "\n",
        "Explain the above statements with the help of code."
      ],
      "metadata": {
        "id": "sL7k6J70zdzH"
      }
    },
    {
      "cell_type": "code",
      "source": [
        "# def modify_list(my_list):\n",
        "#   my_list.append(4)\n",
        "#   my_list[0] = 99\n",
        "\n",
        "def modify_dict(my_dict):\n",
        "    my_dict[\"new_key\"] = \"new_value\"\n",
        "    my_dict[\"existing_key\"] = \"updated\"\n"
      ],
      "metadata": {
        "id": "8ZIVOfAMQt2Z"
      },
      "execution_count": 8,
      "outputs": []
    },
    {
      "cell_type": "markdown",
      "source": [
        "1d. Assuming that ```x = 5```, what will be the value of ```x``` after ```funct_1()``` below executes? After ```funct_2()``` executes?\n"
      ],
      "metadata": {
        "id": "1wWF-wZx2h9s"
      }
    },
    {
      "cell_type": "code",
      "source": [
        "x = 5\n",
        "\n",
        "def funct_1():\n",
        "    x = 10  # Local variable, does not affect global x\n",
        "    print(x)  # Prints 10 (inside function)\n",
        "\n",
        "funct_1()\n",
        "print(x)  # Still 5 (global x is unchanged)\n"
      ],
      "metadata": {
        "id": "nvd-xB2v3AYh",
        "outputId": "3c218ce5-4cb8-419a-a2c5-454242159d7f",
        "colab": {
          "base_uri": "https://localhost:8080/"
        }
      },
      "execution_count": 9,
      "outputs": [
        {
          "output_type": "stream",
          "name": "stdout",
          "text": [
            "10\n",
            "5\n"
          ]
        }
      ]
    },
    {
      "cell_type": "markdown",
      "source": [
        "# 2. Troubleshooting"
      ],
      "metadata": {
        "id": "tJlIQIYjBPLX"
      }
    },
    {
      "cell_type": "markdown",
      "source": [
        "Correct the following code. There might be more than one correct answers. Explain your reasoning."
      ],
      "metadata": {
        "id": "V8HkUVFy6DlD"
      }
    },
    {
      "cell_type": "code",
      "source": [
        "def my_func(a, b, *args):  # Use *args to collect extra positional arguments\n",
        "    print(args)\n",
        "\n",
        "my_func(1, 2, 3, 4, 5, 6)"
      ],
      "metadata": {
        "id": "bJzMzbxIsAU9",
        "outputId": "156f52f9-7c84-4695-d330-149a4accee64",
        "colab": {
          "base_uri": "https://localhost:8080/"
        }
      },
      "execution_count": 13,
      "outputs": [
        {
          "output_type": "stream",
          "name": "stdout",
          "text": [
            "(3, 4, 5, 6)\n"
          ]
        }
      ]
    },
    {
      "cell_type": "markdown",
      "source": [
        "Using the following code, x should print 100 but it prints 10, why?"
      ],
      "metadata": {
        "id": "sYDRYXa9vbX4"
      }
    },
    {
      "cell_type": "code",
      "source": [
        "def my_func_global():\n",
        "    global x  # Now, x refers to the global variable\n",
        "    x = 100  # Modifies global x\n",
        "\n",
        "x = 10\n",
        "my_func_global()\n",
        "print(x)  # Output: 100\n"
      ],
      "metadata": {
        "id": "w93b1OeVNYuf",
        "colab": {
          "base_uri": "https://localhost:8080/"
        },
        "outputId": "b5578294-1e72-4b03-d5a3-ad25fa26282f"
      },
      "execution_count": 14,
      "outputs": [
        {
          "output_type": "stream",
          "name": "stdout",
          "text": [
            "100\n"
          ]
        }
      ]
    },
    {
      "cell_type": "markdown",
      "source": [
        "## Challenges\n",
        "\n",
        "Please describe the challenges you faced during the exercise."
      ],
      "metadata": {
        "id": "xQzjxKdvvbyo"
      }
    },
    {
      "cell_type": "markdown",
      "source": [
        "One challenge you might have faced is understanding the difference between local and global variables. When the function sets x = 100, it only changes x inside the function. The x outside the function, which was set to 10, does not change. This can be confusing because you might expect print(x) to show 100, but it still prints 10.\n",
        "\n",
        "Another challenge is knowing how to use the global keyword correctly. If you want to change the value of x everywhere, you need to write global x inside the function before assigning a new value. If you don’t, the function creates a new x instead of changing the one outside.\n",
        "\n"
      ],
      "metadata": {
        "id": "qfJNpTB5EbY4"
      }
    }
  ]
}