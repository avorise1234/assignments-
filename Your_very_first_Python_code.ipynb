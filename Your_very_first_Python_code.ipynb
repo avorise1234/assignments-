{
  "nbformat": 4,
  "nbformat_minor": 0,
  "metadata": {
    "colab": {
      "provenance": [],
      "include_colab_link": true
    },
    "kernelspec": {
      "name": "python3",
      "display_name": "Python 3"
    },
    "language_info": {
      "name": "python"
    }
  },
  "cells": [
    {
      "cell_type": "markdown",
      "metadata": {
        "id": "view-in-github",
        "colab_type": "text"
      },
      "source": [
        "<a href=\"https://colab.research.google.com/github/avorise1234/assignments-/blob/main/Your_very_first_Python_code.ipynb\" target=\"_parent\"><img src=\"https://colab.research.google.com/assets/colab-badge.svg\" alt=\"Open In Colab\"/></a>"
      ]
    },
    {
      "cell_type": "markdown",
      "source": [
        "# Your first python code\n",
        "\n",
        "## Objective\n",
        "Write your very first python code\n",
        "\n",
        "## Prerequisite\n",
        "\n",
        "- Your very first code `lecture`\n",
        "\n",
        "## What do you need to complete this exercise?\n",
        "\n",
        "You can perform this exercise in any Python IDE, including JupyterLab or Google Colab.\n"
      ],
      "metadata": {
        "id": "2ITy4ycVFXBq"
      }
    },
    {
      "cell_type": "markdown",
      "source": [
        "\n",
        "\n",
        "### Your first code\n",
        "\n",
        "a. Print the following statements using multiple ```print()``` statements\n",
        "```\n",
        "All the world's a stage,\n",
        "And all the men and women merely players:\n",
        "They have their exits and their entrances;\n",
        "And one man in his time plays many parts,\n",
        "His acts being seven ages.\n",
        "```\n",
        "\n"
      ],
      "metadata": {
        "id": "uQxH0KO0tsDc"
      }
    },
    {
      "cell_type": "code",
      "source": [
        "# print(\"All the world's a stage,\")\n",
        "# print(\"All the world's a stage,\")\n",
        "print(\"And all the men and women merely players:\")\n",
        "print(\"They have their exits and their entrances;\")\n",
        "print(\"And one man in his time plays many parts,\")"
      ],
      "metadata": {
        "id": "tLQh-A7Kt70H",
        "colab": {
          "base_uri": "https://localhost:8080/"
        },
        "outputId": "d3a61f1b-1e79-48f9-b034-cf0e8e912424"
      },
      "execution_count": 2,
      "outputs": [
        {
          "output_type": "stream",
          "name": "stdout",
          "text": [
            "And all the men and women merely players:\n",
            "They have their exits and their entrances;\n",
            "And one man in his time plays many parts,\n"
          ]
        }
      ]
    },
    {
      "cell_type": "markdown",
      "source": [
        "b. Print the above statements using a single ```print()``` statement"
      ],
      "metadata": {
        "id": "WjCVjgFuu2LR"
      }
    },
    {
      "cell_type": "code",
      "source": [
        "# print(\"All the world's a stage,\\nAnd all the men and women merely players:\\nThey have their exits and their entrances;\\nAnd one man in his time plays many parts,\\nHis acts being seven ages.\")\n"
      ],
      "metadata": {
        "id": "Z3US7bf6u5lp"
      },
      "execution_count": 3,
      "outputs": []
    },
    {
      "cell_type": "markdown",
      "source": [
        "c. Without coding, what is the output of the following statement:\n",
        "```print(\"127\",\"0\",\"0\",\"1\",sep=\".\")```"
      ],
      "metadata": {
        "id": "jGAy3_MlvONr"
      }
    },
    {
      "cell_type": "markdown",
      "source": [
        "print(\"127\",\"0\",\"0\",\"1\",sep=\".\")\n",
        "127.0.0.1\n",
        "\n",
        "The sep=\".\" tells Python to put a dot (.) between each value instead of a space. So, the numbers are joined with dots, creating an IP address format.\n"
      ],
      "metadata": {
        "id": "FrdFrBujEDB9"
      }
    },
    {
      "cell_type": "markdown",
      "source": [
        "d. Identify a situation where you have to print data with ```flush=True``` and ```flush=False```."
      ],
      "metadata": {
        "id": "ruYWccCbvTsi"
      }
    },
    {
      "cell_type": "markdown",
      "source": [
        "Use flush=True when you want to see the words right away on the screen. This is useful for countdowns, progress bars, or live updates.\n",
        "\n",
        "Use flush=False when it is okay to wait before showing the words. This is good for regular messages or reports that do not need to appear instantly.\n",
        "\n",
        "\n",
        "\n"
      ],
      "metadata": {
        "id": "28PdaQxRDc0H"
      }
    },
    {
      "cell_type": "markdown",
      "source": [
        "e. By default, the ```flush``` is disabled but ```print()``` output behaves like ```flush=True```. Which argument triggers the flush?"
      ],
      "metadata": {
        "id": "bXxEnnzFvZg5"
      }
    },
    {
      "cell_type": "code",
      "source": [
        "import time\n",
        "\n",
        "for i in range(5):\n",
        "    print(i, end=\" \", flush=True)\n",
        "    time.sleep(1)\n"
      ],
      "metadata": {
        "id": "DcVJNPzqccrJ",
        "outputId": "0f32177c-cf60-4efe-afaf-231ffba33098",
        "colab": {
          "base_uri": "https://localhost:8080/"
        }
      },
      "execution_count": 14,
      "outputs": [
        {
          "output_type": "stream",
          "name": "stdout",
          "text": [
            "0 1 2 3 4 "
          ]
        }
      ]
    },
    {
      "cell_type": "markdown",
      "source": [
        "## Challenges\n",
        "\n",
        "Using multiple print() statements - It might have been tricky to type each line separately. Using one print() statement - Remembering to use \\n to make new lines could be confusing. Understanding sep=\".\" -You had to see how the dots (.) connect the numbers instead of spaces. Flush vs. No Flush - Knowing when to use flush=True to show words right away was a bit tricky. Figuring out what makes print flush - Learning that a new line (\\n) helps print right away was new."
      ],
      "metadata": {
        "id": "xQzjxKdvvbyo"
      }
    },
    {
      "cell_type": "markdown",
      "source": [
        "Write your challenges here"
      ],
      "metadata": {
        "id": "qfJNpTB5EbY4"
      }
    }
  ]
}