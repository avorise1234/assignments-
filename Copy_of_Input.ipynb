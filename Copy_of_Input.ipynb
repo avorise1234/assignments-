{
  "nbformat": 4,
  "nbformat_minor": 0,
  "metadata": {
    "colab": {
      "provenance": [],
      "include_colab_link": true
    },
    "kernelspec": {
      "name": "python3",
      "display_name": "Python 3"
    },
    "language_info": {
      "name": "python"
    }
  },
  "cells": [
    {
      "cell_type": "markdown",
      "metadata": {
        "id": "view-in-github",
        "colab_type": "text"
      },
      "source": [
        "<a href=\"https://colab.research.google.com/github/avorise1234/assignments-/blob/main/Copy_of_Input.ipynb\" target=\"_parent\"><img src=\"https://colab.research.google.com/assets/colab-badge.svg\" alt=\"Open In Colab\"/></a>"
      ]
    },
    {
      "cell_type": "markdown",
      "source": [
        "# User input in Python\n",
        "\n",
        "## Objective\n",
        "1. Understand how ```input()``` function is applied.\n",
        "\n",
        "## Prerequisite\n",
        "\n",
        "- Python literals lecture & lab\n",
        "- Programming variables lecture\n",
        "\n",
        "## What do you need to complete this exercise?\n",
        "\n",
        "You can perform this exercise in any Python IDE, including JupyterLab or Google Colab.\n"
      ],
      "metadata": {
        "id": "2ITy4ycVFXBq"
      }
    },
    {
      "cell_type": "markdown",
      "source": [
        "### User input\n",
        "\n",
        "a. Write a program that prompts the user to enter the weight of a person in kilograms and outputs the equivalent weight in pounds. (Note that 1 kilogram = 2.2 pounds)."
      ],
      "metadata": {
        "id": "uQxH0KO0tsDc"
      }
    },
    {
      "cell_type": "code",
      "source": [
        "# Ask the user for weight in kiograms\n",
        "# kg = float(input(\"Enter wight in kiograms: \"))\n",
        "# Ask the user for weight in kiograms\n",
        "# kg = float(input(\"Enter wight in kiograms: \"))\n",
        "# Convert kilogrms to pounds\n",
        "#pounds = kg * 2.2\n",
        "#print the result correctly\n",
        "#print(f\"{kg} kg is equal to {pounds:.2f} pounds.\")\n",
        "#The above code has a syntax error and cannot run without the variable kg being defined.\n",
        "#Assuming the commented out code was meant to be run.\n",
        "kg = float(input(\"Enter wight in kiograms: \"))\n",
        "pounds = kg * 2.2\n",
        "print(f\"{kg} kg is equal to {pounds:.2f} pounds.\")"
      ],
      "metadata": {
        "colab": {
          "base_uri": "https://localhost:8080/"
        },
        "id": "N3wgQQ672rWR",
        "outputId": "e1c867e4-db68-4dd6-bf1c-7187c34e6402"
      },
      "execution_count": null,
      "outputs": [
        {
          "output_type": "stream",
          "name": "stdout",
          "text": [
            "Enter wight in kiograms: 50\n",
            "50.0 kg is equal to 110.00 pounds.\n"
          ]
        }
      ]
    },
    {
      "cell_type": "markdown",
      "source": [
        "b. Interest on a credit card's unpaid balance is calculated using the average daily balance. Suppose that $netBalance$ is the balance shown in the bill, $payment$ is the payment made, $d1$ is the number of days in the billing cycle, and $d2$ is the number of days payment is made before biling cycle. Then, the average daily balance is: $$averageDailybalance = (netBalance \\times d1 - payment \\times d2)/d1$$.\n",
        "\n",
        "If the interest rate per month is, say, 0.0152, then the interest on the unpaid balance is: $interest = averageDailyBalance \\times 0.0152$\n",
        "\n",
        "Write a program that accepts as input $netBalance$, $payment$, $d1$, $d2$, and $interest rate per month$. The program outputs the interest."
      ],
      "metadata": {
        "id": "2ou6B-5b2ws3"
      }
    },
    {
      "cell_type": "code",
      "source": [
        "# Ask the user for inputs\n",
        "netbalance = float(input(\"Enter net balance: \"))\n",
        "payment = float(input(\"Enter payment amount:\"))\n",
        "d1 = int(input(\"Enter number of days in billing  (d1): \"))\n",
        "d2 = int(input(\"Enter number of days before billing cycle (d2): \"))\n",
        "interestRatePerMonth = float(input(\"Enter interest rate per month ( as a decimal, e.g., 0.0152 for 1.52%)\"))\n",
        "\n",
        "# Calculate average daily balance\n",
        "# Changed netBalance to netbalance to match the variable definition\n",
        "averageBalanceDailyBalance = ((netbalance * d1) - (payment * d2)) / d1\n",
        "\n",
        "#Calcualte interest\n",
        "interest = averageBalanceDailyBalance * interestRatePerMonth\n",
        "# Ask the user for inputs\n",
        "netbalance = float(input(\"Enter net balance: \"))\n",
        "payment = float(input(\"Enter payment amount:\"))\n",
        "d1 = int(input(\"Enter number of days in billing  (d1): \"))\n",
        "d2 = int(input(\"Enter number of days before billing cycle (d2): \"))\n",
        "interestRatePerMonth = float(input(\"Enter interest rate per month ( as a decimal, e.g., 0.0152 for 1.52%)\"))\n",
        "\n",
        "# Calculate average daily balance\n",
        "averageBalanceDailyBalance = ((netbalance * d1) - (payment * d2)) / d1\n",
        "\n",
        "#Calcualte interest\n",
        "interest = averageBalanceDailyBalance * interestRatePerMonth\n",
        "#ask the user for inputs\n",
        "#print the results\n",
        "print(f\"Average Daily Balance: $(averageBalanceDailyBalance:.2f)\")\n",
        "print(f\"Interest on unpaid balance: ${interest:.2f}\")"
      ],
      "metadata": {
        "id": "pqP70bD02x9h",
        "colab": {
          "base_uri": "https://localhost:8080/"
        },
        "outputId": "d03ec6eb-70b8-4ed8-e814-41ca83574b04"
      },
      "execution_count": null,
      "outputs": [
        {
          "output_type": "stream",
          "name": "stdout",
          "text": [
            "Enter net balance: 1000\n",
            "Enter payment amount:200\n",
            "Enter number of days in billing  (d1): 30\n",
            "Enter number of days before billing cycle (d2): 15\n",
            "Enter interest rate per month ( as a decimal, e.g., 0.0152 for 1.52%)0.0152\n",
            "Enter net balance: 1000\n",
            "Enter payment amount:200\n",
            "Enter number of days in billing  (d1): 30\n",
            "Enter number of days before billing cycle (d2): 15\n",
            "Enter interest rate per month ( as a decimal, e.g., 0.0152 for 1.52%)0.0152\n",
            "Average Daily Balance: $(averageBalanceDailyBalance:.2f)\n",
            "Interest on unpaid balance: $13.68\n"
          ]
        }
      ]
    },
    {
      "cell_type": "markdown",
      "source": [
        "c. Two cars A and B leave an intersection at the same time. Car A travels west at an average speed of x miles per hour and car B travels south at an average speed of y miles per hour. Write a program that prompts the user to enter the average speed of both the cars and the elapsed time (in hours and minutes) and outputs the (shortest) distance between the cars."
      ],
      "metadata": {
        "id": "gAxw_xVk25qO"
      }
    },
    {
      "cell_type": "code",
      "source": [
        "\n",
        "import math  # Import math library for square root function\n",
        "\n",
        "# Get user inputs\n",
        "x = float(input(\"Enter the speed of Car A (miles per hour): \"))\n",
        "y = float(input(\"Enter the speed of Car B (miles per hour): \"))\n",
        "t = float(input(\"Enter the elapsed time (hours): \"))\n",
        "\n",
        "# Calculate the shortest distance using the Pythagorean Theorem\n",
        "distance = math.sqrt((x * t) ** 2 + (y * t) ** 2)\n",
        "\n",
        "# Print the result\n",
        "print(f\"The shortest distance between the two cars after {t:.2f} hours is {distance:.2f} miles.\")"
      ],
      "metadata": {
        "id": "nMPuZXsH26nW",
        "colab": {
          "base_uri": "https://localhost:8080/"
        },
        "outputId": "4dcec909-229b-4a49-eefa-ae091c01552c"
      },
      "execution_count": 2,
      "outputs": [
        {
          "output_type": "stream",
          "name": "stdout",
          "text": [
            "Enter the speed of Car A (miles per hour): 40\n",
            "Enter the speed of Car B (miles per hour): 30\n",
            "Enter the elapsed time (hours): 2\n",
            "The shortest distance between the two cars after 2.00 hours is 100.00 miles.\n"
          ]
        }
      ]
    },
    {
      "cell_type": "markdown",
      "source": [
        "### Troubleshooting\n",
        "\n",
        "Please troubleshoot the following issue **without using Python**, and explain your reasoning.\n",
        "\n",
        "a. ```hello = \"hello\"``` correct  \n",
        "b. ```_var = 100```  correct\n",
        "c. ```!var_1 = 200```  var1=200\n",
        "d. ```print = \"print me\"```  mesage = \"print me\"\n",
        "e. ```False = 0```  is_false = 0"
      ],
      "metadata": {
        "id": "V0l5fqK-NJ2n"
      }
    },
    {
      "cell_type": "markdown",
      "source": [
        "Write your answer here"
      ],
      "metadata": {
        "id": "Cz8CqobPNO8n"
      }
    },
    {
      "cell_type": "markdown",
      "source": [
        "## Challenges\n",
        "\n",
        "Please describe the challenges you faced during the exercise."
      ],
      "metadata": {
        "id": "xQzjxKdvvbyo"
      }
    },
    {
      "cell_type": "markdown",
      "source": [
        "Write your challenges here"
      ],
      "metadata": {
        "id": "qfJNpTB5EbY4"
      }
    }
  ]
}