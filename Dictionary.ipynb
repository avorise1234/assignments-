{
  "nbformat": 4,
  "nbformat_minor": 0,
  "metadata": {
    "colab": {
      "provenance": [],
      "include_colab_link": true
    },
    "kernelspec": {
      "name": "python3",
      "display_name": "Python 3"
    },
    "language_info": {
      "name": "python"
    }
  },
  "cells": [
    {
      "cell_type": "markdown",
      "metadata": {
        "id": "view-in-github",
        "colab_type": "text"
      },
      "source": [
        "<a href=\"https://colab.research.google.com/github/avorise1234/assignments-/blob/main/Dictionary.ipynb\" target=\"_parent\"><img src=\"https://colab.research.google.com/assets/colab-badge.svg\" alt=\"Open In Colab\"/></a>"
      ]
    },
    {
      "cell_type": "markdown",
      "source": [
        "# Dictionary in Python\n",
        "In Python, a dictionary is a built-in data structure that stores data in key-value pairs. It is an unordered, mutable (changeable) collection, where each key must be unique and immutable (e.g., string, number, or tuple), while the value can be of any data type.\n",
        "\n",
        "## Objective\n",
        "- Understand how to create dictionary in Python\n",
        "- Apply various methods on a dictionary\n",
        "- Troubleshoot dictionary\n",
        "\n",
        "## Prerequisite\n",
        "\n",
        "- Lists & tuples\n",
        "- Decision and loops\n",
        "- Input functions\n",
        "\n",
        "\n",
        "## What do you need to complete this exercise?\n",
        "\n",
        "You can perform this exercise in any Python IDE, including JupyterLab or Google Colab.\n"
      ],
      "metadata": {
        "id": "2ITy4ycVFXBq"
      }
    },
    {
      "cell_type": "markdown",
      "source": [
        "# 1. Creating and accessing dictionary\n",
        "\n",
        "1a) Create dictionary of your choice of keys and values. Create dictionary size of 10 elements."
      ],
      "metadata": {
        "id": "uQxH0KO0tsDc"
      }
    },
    {
      "source": [
        "my_dictionary = {\n",
        "\"name\": \"Amgela\",\n",
        "\"age\": 28,\n",
        "\"city\": \"New York\",\n",
        "\"job\": \"Software Engineer\",\n",
        "\"hobby\": \"Photography\",\n",
        "\"language\": \"Python\",\n",
        "\"pet\": \"Dog\",\n",
        "\"car\": \"Tesla\",\n",
        "\"country\": \"USA\",\n",
        "\"food\": \"Steak\"\n",
        "}\n",
        "\n",
        "print(my_dictionary)"
      ],
      "cell_type": "code",
      "metadata": {
        "colab": {
          "base_uri": "https://localhost:8080/"
        },
        "id": "e86goxr38e1r",
        "outputId": "eacbcba6-06e2-4a99-e7d8-34f1c7128d8c"
      },
      "execution_count": 8,
      "outputs": [
        {
          "output_type": "stream",
          "name": "stdout",
          "text": [
            "{'name': 'Amgela', 'age': 28, 'city': 'New York', 'job': 'Software Engineer', 'hobby': 'Photography', 'language': 'Python', 'pet': 'Dog', 'car': 'Tesla', 'country': 'USA', 'food': 'Steak'}\n"
          ]
        }
      ]
    },
    {
      "cell_type": "markdown",
      "source": [
        "1b. Take inputs from a user and add them in a dictionary called ```my_user_dict```\n",
        "\n",
        "Here is the example of an user input:\n",
        "\n",
        "SSN: 111-222-3333\n",
        "\n",
        "Name: Steve Hawkins\n",
        "\n",
        "The code continue to take user input and provide an option at the end of the user input; \"Do you want to continue (Y/N)\"\n",
        "\n",
        "Identify how many keys you need to create a dictionary."
      ],
      "metadata": {
        "id": "0jkTuRdlA6sk"
      }
    },
    {
      "cell_type": "code",
      "source": [
        "# my_user_dict = {}\n",
        "\n",
        "while True:\n",
        "    key = input(\"Enter key: \")  # Prompt user for key\n",
        "    value = input(\"Enter value: \")  # Prompt user for value\n",
        "    my_user_dict[key] = value  # Store input in dictionary\n",
        "\n",
        "    choice = input(\"Do you want to continue (Y/N)? \").strip().upper()\n",
        "    if choice == 'N':\n",
        "        break\n",
        "\n",
        "print(\"\\nFinal Dictionary:\")\n",
        "print(my_user_dict)\n",
        "\n",
        "# Display the number of keys\n",
        "print(f\"\\nTotal number of keys entered: {len(my_user_dict)}\")\n"
      ],
      "metadata": {
        "id": "8ZIVOfAMQt2Z",
        "colab": {
          "base_uri": "https://localhost:8080/"
        },
        "outputId": "c993fd91-d8c2-4ccd-cd59-308825c6f318"
      },
      "execution_count": 12,
      "outputs": [
        {
          "output_type": "stream",
          "name": "stdout",
          "text": [
            "Enter key: 1\n",
            "Enter value: 15\n",
            "Do you want to continue (Y/N)? n\n",
            "\n",
            "Final Dictionary:\n",
            "{'2': '10', '5': '20', '3': '17', '4': '20', '6': '21', '7': '36', '1': '15'}\n",
            "\n",
            "Total number of keys entered: 7\n"
          ]
        }
      ]
    },
    {
      "source": [
        "# a = [(\"a\", 1), (\"b\", 2), (\"c\", 3)]\n",
        "\n",
        "# Convert the list of tuples into a dictionary\n",
        "# Remove the '#' to uncomment the line below and define 'a'\n",
        "a = [(\"a\", 1), (\"b\", 2), (\"c\", 3)]\n",
        "res = dict(a)\n",
        "\n",
        "print(res)"
      ],
      "cell_type": "code",
      "metadata": {
        "colab": {
          "base_uri": "https://localhost:8080/"
        },
        "id": "XQb4f8xN9nqg",
        "outputId": "6739dc1c-0d19-4317-b940-29c19098e6d4"
      },
      "execution_count": 15,
      "outputs": [
        {
          "output_type": "stream",
          "name": "stdout",
          "text": [
            "{'a': 1, 'b': 2, 'c': 3}\n"
          ]
        }
      ]
    },
    {
      "cell_type": "markdown",
      "source": [
        "1c. Based on the given tuple, create a code which checks for valid key & value pairs, and check for key duplication.\n",
        "\n",
        "The code should provide assistance to a user to correct the error. For key duplication, ask user to change the key"
      ],
      "metadata": {
        "id": "J6CAWQq0HBv6"
      }
    },
    {
      "cell_type": "code",
      "source": [
        "my_list = [(\"Name\", \"Sarah Connor\"), (\"Date of birth\", \"1 Jan 1980\"), (\"Address\",\"1000 Black Mountain Drive\",92126),(\"Name\", \"Jim Hawkins\")]\n",
        "my_list"
      ],
      "metadata": {
        "colab": {
          "base_uri": "https://localhost:8080/"
        },
        "id": "zhseVMcKL-89",
        "outputId": "54443353-4387-42f0-b44a-5a39bef6c79f"
      },
      "execution_count": 16,
      "outputs": [
        {
          "output_type": "execute_result",
          "data": {
            "text/plain": [
              "[('Name', 'Sarah Connor'),\n",
              " ('Date of birth', '1 Jan 1980'),\n",
              " ('Address', '1000 Black Mountain Drive', 92126),\n",
              " ('Name', 'Jim Hawkins')]"
            ]
          },
          "metadata": {},
          "execution_count": 16
        }
      ]
    },
    {
      "source": [
        "my_list = [\n",
        "    (\"Name\", \"Sarah Connor\"),\n",
        "    (\"Date of birth\", \"1 Jan 1980\"),\n",
        "    (\"Address\", \"1000 Black Mountain Drive, 92126\"),\n",
        "    (\"Name\", \"Jim Hawkins\")\n",
        "] # Removed the unexpected indentation and add a closing bracket to actually create the list.\n",
        "\n",
        "# Now you can work with the my_list variable\n",
        "print(my_list) #For example print the list"
      ],
      "cell_type": "code",
      "metadata": {
        "colab": {
          "base_uri": "https://localhost:8080/"
        },
        "id": "QVkc7UVS-MIk",
        "outputId": "97a95804-5a00-4596-be4a-93aa18364e79"
      },
      "execution_count": 20,
      "outputs": [
        {
          "output_type": "stream",
          "name": "stdout",
          "text": [
            "[('Name', 'Sarah Connor'), ('Date of birth', '1 Jan 1980'), ('Address', '1000 Black Mountain Drive, 92126'), ('Name', 'Jim Hawkins')]\n"
          ]
        }
      ]
    },
    {
      "cell_type": "markdown",
      "source": [
        "1d. Convert the following list into a dictionary. Automate the process by using the loop."
      ],
      "metadata": {
        "id": "h7Jc8xH-JEmh"
      }
    },
    {
      "cell_type": "code",
      "source": [
        "my_list = [10012,\"Mango\",43221,\"Gala apple\",14321,\"Banana\",10011,\"Watermelon\"]"
      ],
      "metadata": {
        "id": "Nfv-ATQUKlW2"
      },
      "execution_count": 21,
      "outputs": []
    },
    {
      "cell_type": "markdown",
      "source": [
        "1e. Use the following text and count the number of words using dictionary. Remember The or the counts as 2.\n",
        "\n",
        "**The tiger (Panthera tigris) is a large cat and a member of the genus Panthera native to Asia. It has a powerful, muscular body with a large head and paws, a long tail and orange fur with black, mostly vertical stripes. It is traditionally classified into nine recent subspecies, though some recognise only two subspecies, mainland Asian tigers and the island tigers of the Sunda Islands.**"
      ],
      "metadata": {
        "id": "lLeAeQwmSHWL"
      }
    },
    {
      "cell_type": "markdown",
      "source": [
        "# 2. Troubleshooting"
      ],
      "metadata": {
        "id": "tJlIQIYjBPLX"
      }
    },
    {
      "cell_type": "code",
      "source": [
        "d_orig = {123:\"Coconut\"}\n",
        "d_copy = d_orig\n",
        "print(d_orig)\n",
        "print(d_copy)"
      ],
      "metadata": {
        "id": "70JnWsa6zE0M",
        "colab": {
          "base_uri": "https://localhost:8080/"
        },
        "outputId": "fc65ea5e-5e40-4776-daae-d7ac430f1a30"
      },
      "execution_count": 22,
      "outputs": [
        {
          "output_type": "stream",
          "name": "stdout",
          "text": [
            "{123: 'Coconut'}\n",
            "{123: 'Coconut'}\n"
          ]
        }
      ]
    },
    {
      "cell_type": "markdown",
      "source": [
        "2a. Change the content of ```d_copy``` and make sure the content does not affect the ```d_orig``` dictionary. Verify using the code."
      ],
      "metadata": {
        "id": "eF1Xhaw4M1CG"
      }
    },
    {
      "cell_type": "code",
      "source": [
        "# d_orig = {\"Name\": \"Angela\", \"Age\": 30, \"City\": \"New York\"}\n",
        "\n",
        "# Create a copy of d_orig\n",
        "d_copy = d_orig.copy()  # Shallow copy (or use d_copy = copy.deepcopy(d_orig) for a deep copy)\n",
        "\n",
        "# Modify d_copy\n",
        "d_copy[\"Age\"] = 35\n",
        "d_copy[\"City\"] = \"Los Angeles\"\n",
        "\n",
        "# Verify changes\n",
        "print(\"Original Dictionary:\", d_orig)\n",
        "print(\"Modified Copy Dictionary:\", d_copy)\n",
        "\n",
        "# Ensure d_orig remains unchanged\n",
        "assert d_orig != d_copy, \"The original dictionary has been modified!\"\n",
        "\n"
      ],
      "metadata": {
        "id": "w93b1OeVNYuf",
        "colab": {
          "base_uri": "https://localhost:8080/"
        },
        "outputId": "2ad871ca-9dbf-43f6-910c-05415b06b2b2"
      },
      "execution_count": 24,
      "outputs": [
        {
          "output_type": "stream",
          "name": "stdout",
          "text": [
            "Original Dictionary: {123: 'Coconut'}\n",
            "Modified Copy Dictionary: {123: 'Coconut', 'Age': 35, 'City': 'Los Angeles'}\n"
          ]
        }
      ]
    },
    {
      "cell_type": "markdown",
      "source": [
        "2b. If it changes the content of the original dictionary, then propose how can you solve this problem."
      ],
      "metadata": {
        "id": "O0-uz6MdzJ4a"
      }
    },
    {
      "cell_type": "code",
      "source": [
        "# d_orig = {\n",
        "# \"Name\": \"Angela\",\n",
        "#     \"Age\": 30,\n",
        "import copy\n",
        "# d_orig = {\n",
        "# \"Name\": \"Angela\",\n",
        "#     \"Age\": 30,\n",
        "#     \"City\": \"New York\",\n",
        "#     \"Hobbies\": [\"Reading\", \"Traveling\"]\n",
        "# }\n",
        "d_orig = {\n",
        "    \"Name\": \"Angela\",\n",
        "    \"Age\": 30,\n",
        "    \"City\": \"New York\",\n",
        "    \"Hobbies\": [\"Reading\", \"Traveling\"]\n",
        "}\n",
        "\n",
        "# Shallow copy (This will cause issues)\n",
        "d_shallow = d_orig.copy()\n",
        "\n",
        "# Modify d_shallow\n",
        "d_shallow[\"Age\"] = 35\n",
        "d_shallow[\"City\"] = \"Los Angeles\"\n",
        "d_shallow[\"Hobbies\"].append(\"Cooking\")  # This change will affect d_orig too!\n",
        "\n",
        "# Check if original dictionary is affected\n",
        "print(\"Original Dictionary (after shallow copy modification):\", d_orig)\n",
        "print(\"Shallow Copy Dictionary:\", d_shallow)\n",
        "\n",
        "# SOLUTION: Use deepcopy to prevent changes in the original dictionary\n",
        "d_deepcopy = copy.deepcopy(d_orig)\n",
        "\n",
        "# Modify deep copy\n",
        "d_deepcopy[\"Age\"] = 40\n",
        "d_deepcopy[\"City\"] = \"San Francisco\"\n",
        "d_deepcopy[\"Hobbies\"].append(\"Swimming\")  # Now this won't affect d_orig\n",
        "\n",
        "# Final verification\n",
        "print(\"\\nOriginal Dictionary (after deep copy modification):\", d_orig)\n",
        "print(\"Deep Copy Dictionary:\", d_deepcopy)\n",
        "\n",
        "assert d_orig != d_deepcopy, \"The original dictionary has been modified!\"\n",
        "d_shallow = d_orig.copy()\n",
        "\n",
        "# Modify d_shallow\n",
        "d_shallow[\"Age\"] = 35\n",
        "d_shallow[\"City\"] = \"Los Angeles\"\n",
        "d_shallow[\"Hobbies\"].append(\"Cooking\")  # This change will affect d_orig too!\n",
        "\n",
        "# Check if original dictionary is affected\n",
        "print(\"Original Dictionary (after shallow copy modification):\", d_orig)\n",
        "print(\"Shallow Copy Dictionary:\", d_shallow)\n",
        "\n",
        "# SOLUTION: Use deepcopy to prevent changes in the original dictionary\n",
        "d_deepcopy = copy.deepcopy(d_orig)\n",
        "\n",
        "# Modify deep copy\n",
        "d_deepcopy[\"Age\"] = 40\n",
        "d_deepcopy[\"City\"] = \"San Francisco\"\n",
        "d_deepcopy[\"Hobbies\"].append(\"Swimming\")  # Now this won't affect d_orig\n",
        "\n",
        "# Final verification\n",
        "print(\"\\nOriginal Dictionary (after deep copy modification):\", d_orig)\n",
        "print(\"Deep Copy Dictionary:\", d_deepcopy)\n",
        "\n",
        "assert d_orig != d_deepcopy, \"The original dictionary has been modified!\"\n",
        "# d_orig = {\n",
        "# \"Name\": \"Angela\",\n",
        "#     \"Age\": 30,\n",
        "#     \"City\": \"New York\",\n",
        "#     \"Hobbies\": [\"Reading\", \"Traveling\"]\n",
        "# }\n",
        "d_orig = {\n",
        "    \"Name\": \"Angela\",\n",
        "    \"Age\": 30,\n",
        "    \"City\": \"New York\",\n",
        "    \"Hobbies\": [\"Reading\", \"Traveling\"]\n",
        "}\n",
        "\n",
        "# Shallow copy (This will cause issues)\n",
        "d_shallow = d_orig.copy()\n",
        "\n",
        "# Modify d_shallow\n",
        "d_shallow[\"Age\"] = 35\n",
        "d_shallow[\"City\"] = \"Los Angeles\"\n",
        "d_shallow[\"Hobbies\"].append(\"Cooking\")  # This change will affect d_orig too!\n",
        "\n",
        "# Check if original dictionary is affected\n",
        "print(\"Original Dictionary (after shallow copy modification):\", d_orig)\n",
        "print(\"Shallow Copy Dictionary:\", d_shallow)\n",
        "\n",
        "# SOLUTION: Use deepcopy to prevent changes in the original dictionary\n",
        "d_deepcopy = copy.deepcopy(d_orig)\n",
        "\n",
        "# Modify deep copy\n",
        "d_deepcopy[\"Age\"] = 40\n",
        "d_deepcopy[\"City\"] = \"San Francisco\"\n",
        "d_deepcopy[\"Hobbies\"].append(\"Swimming\")  # Now this won't affect d_orig\n",
        "\n",
        "# Final verification\n",
        "print(\"\\nOriginal Dictionary (after deep copy modification):\", d_orig)\n",
        "print(\"Deep Copy Dictionary:\", d_deepcopy)\n",
        "\n",
        "assert d_orig != d_deepcopy, \"The original dictionary has been modified!\"\n",
        "d_shallow = d_orig.copy()\n",
        "\n",
        "# Modify d_shallow\n",
        "d_shallow[\"Age\"] = 35\n",
        "d_shallow[\"City\"] = \"Los Angeles\"\n",
        "d_shallow[\"Hobbies\"].append(\"Cooking\")  # This change will affect d_orig too!\n",
        "\n",
        "# Check if original dictionary is affected\n",
        "print(\"Original Dictionary (after shallow copy modification):\", d_orig)\n",
        "print(\"Shallow Copy Dictionary:\", d_shallow)\n",
        "\n",
        "# SOLUTION: Use deepcopy to prevent changes in the original dictionary\n",
        "d_deepcopy = copy.deepcopy(d_orig)\n",
        "\n",
        "# Modify deep copy\n",
        "d_deepcopy[\"Age\"] = 40\n",
        "d_deepcopy[\"City\"] = \"San Francisco\"\n",
        "d_deepcopy[\"Hobbies\"].append(\"Swimming\")  # Now this won't affect d_orig\n",
        "\n",
        "# Final verification\n",
        "print(\"\\nOriginal Dictionary (after deep copy modification):\", d_orig)\n",
        "print(\"Deep Copy Dictionary:\", d_deepcopy)\n",
        "\n",
        "assert d_orig != d_deepcopy, \"The original dictionary has been modified!\""
      ],
      "metadata": {
        "id": "xyS0VVapNvEv",
        "colab": {
          "base_uri": "https://localhost:8080/"
        },
        "outputId": "7277ce2d-919d-42b3-f804-d6135d67310f"
      },
      "execution_count": 29,
      "outputs": [
        {
          "output_type": "stream",
          "name": "stdout",
          "text": [
            "Original Dictionary (after shallow copy modification): {'Name': 'Angela', 'Age': 30, 'City': 'New York', 'Hobbies': ['Reading', 'Traveling', 'Cooking']}\n",
            "Shallow Copy Dictionary: {'Name': 'Angela', 'Age': 35, 'City': 'Los Angeles', 'Hobbies': ['Reading', 'Traveling', 'Cooking']}\n",
            "\n",
            "Original Dictionary (after deep copy modification): {'Name': 'Angela', 'Age': 30, 'City': 'New York', 'Hobbies': ['Reading', 'Traveling', 'Cooking']}\n",
            "Deep Copy Dictionary: {'Name': 'Angela', 'Age': 40, 'City': 'San Francisco', 'Hobbies': ['Reading', 'Traveling', 'Cooking', 'Swimming']}\n",
            "Original Dictionary (after shallow copy modification): {'Name': 'Angela', 'Age': 30, 'City': 'New York', 'Hobbies': ['Reading', 'Traveling', 'Cooking', 'Cooking']}\n",
            "Shallow Copy Dictionary: {'Name': 'Angela', 'Age': 35, 'City': 'Los Angeles', 'Hobbies': ['Reading', 'Traveling', 'Cooking', 'Cooking']}\n",
            "\n",
            "Original Dictionary (after deep copy modification): {'Name': 'Angela', 'Age': 30, 'City': 'New York', 'Hobbies': ['Reading', 'Traveling', 'Cooking', 'Cooking']}\n",
            "Deep Copy Dictionary: {'Name': 'Angela', 'Age': 40, 'City': 'San Francisco', 'Hobbies': ['Reading', 'Traveling', 'Cooking', 'Cooking', 'Swimming']}\n",
            "Original Dictionary (after shallow copy modification): {'Name': 'Angela', 'Age': 30, 'City': 'New York', 'Hobbies': ['Reading', 'Traveling', 'Cooking']}\n",
            "Shallow Copy Dictionary: {'Name': 'Angela', 'Age': 35, 'City': 'Los Angeles', 'Hobbies': ['Reading', 'Traveling', 'Cooking']}\n",
            "\n",
            "Original Dictionary (after deep copy modification): {'Name': 'Angela', 'Age': 30, 'City': 'New York', 'Hobbies': ['Reading', 'Traveling', 'Cooking']}\n",
            "Deep Copy Dictionary: {'Name': 'Angela', 'Age': 40, 'City': 'San Francisco', 'Hobbies': ['Reading', 'Traveling', 'Cooking', 'Swimming']}\n",
            "Original Dictionary (after shallow copy modification): {'Name': 'Angela', 'Age': 30, 'City': 'New York', 'Hobbies': ['Reading', 'Traveling', 'Cooking', 'Cooking']}\n",
            "Shallow Copy Dictionary: {'Name': 'Angela', 'Age': 35, 'City': 'Los Angeles', 'Hobbies': ['Reading', 'Traveling', 'Cooking', 'Cooking']}\n",
            "\n",
            "Original Dictionary (after deep copy modification): {'Name': 'Angela', 'Age': 30, 'City': 'New York', 'Hobbies': ['Reading', 'Traveling', 'Cooking', 'Cooking']}\n",
            "Deep Copy Dictionary: {'Name': 'Angela', 'Age': 40, 'City': 'San Francisco', 'Hobbies': ['Reading', 'Traveling', 'Cooking', 'Cooking', 'Swimming']}\n"
          ]
        }
      ]
    },
    {
      "cell_type": "markdown",
      "source": [
        "2c. Write a code that generates the following error and explain why there is such an error.\n",
        "```\n",
        "TypeError: unhashable type: 'list'\n",
        "```"
      ],
      "metadata": {
        "id": "6vXaWJBczn5u"
      }
    },
    {
      "cell_type": "code",
      "source": [
        "## my_dict = {\"name\": \"Angela\", \"age\": 30}\n",
        "\n",
        "# Trying to access a dictionary key using parentheses instead of square brackets\n",
        "#print(my_dictionary(\"name\"))  # Incorrect: Trying to call the dictionary - This line is causing the error\n",
        "print(my_dictionary[\"name\"])  # Correct: Accessing the value using the key \"name\""
      ],
      "metadata": {
        "id": "dUoHv95LOCYr",
        "colab": {
          "base_uri": "https://localhost:8080/"
        },
        "outputId": "ea9eecb2-018b-440e-e092-875c560f3abb"
      },
      "execution_count": 39,
      "outputs": [
        {
          "output_type": "stream",
          "name": "stdout",
          "text": [
            "Amgela\n"
          ]
        }
      ]
    },
    {
      "cell_type": "markdown",
      "source": [
        "## Challenges\n",
        "\n",
        "Please describe the challenges you faced during the exercise."
      ],
      "metadata": {
        "id": "xQzjxKdvvbyo"
      }
    },
    {
      "cell_type": "markdown",
      "source": [
        "Problem: You may have used ( ) instead of [ ] to get a value from a dictionary. This causes an error.  If you copy a dictionary using .copy(), changes to the new one might also change the original.\n"
      ],
      "metadata": {
        "id": "qfJNpTB5EbY4"
      }
    }
  ]
}