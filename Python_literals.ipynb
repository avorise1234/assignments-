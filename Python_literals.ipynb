{
  "nbformat": 4,
  "nbformat_minor": 0,
  "metadata": {
    "colab": {
      "provenance": [],
      "toc_visible": true,
      "include_colab_link": true
    },
    "kernelspec": {
      "name": "python3",
      "display_name": "Python 3"
    },
    "language_info": {
      "name": "python"
    }
  },
  "cells": [
    {
      "cell_type": "markdown",
      "metadata": {
        "id": "view-in-github",
        "colab_type": "text"
      },
      "source": [
        "<a href=\"https://colab.research.google.com/github/avorise1234/assignments-/blob/main/Python_literals.ipynb\" target=\"_parent\"><img src=\"https://colab.research.google.com/assets/colab-badge.svg\" alt=\"Open In Colab\"/></a>"
      ]
    },
    {
      "cell_type": "markdown",
      "source": [
        "# Python literals\n",
        "\n",
        "## Objective\n",
        "1. Understand how Python uses literals.\n",
        "2. Differentiate Integer, Float, Boolean and String data types.\n",
        "3. Understanding how arithmetic operations are performed and recognizing the precedence of operators.\n",
        "\n",
        "## Prerequisite\n",
        "\n",
        "- Python & literals lecture\n",
        "\n",
        "## What do you need to complete this exercise?\n",
        "\n",
        "You can perform this exercise in any Python IDE, including JupyterLab or Google Colab."
      ],
      "metadata": {
        "id": "2ITy4ycVFXBq"
      }
    },
    {
      "cell_type": "markdown",
      "source": [
        "### Literals\n",
        "\n",
        "a) What will the output be without using Python? Aim for 80% accuracy.\n",
        "\n",
        "```print(5 + 2 - 2)```\n",
        "\n",
        "```print(5 / 2)```\n",
        "\n",
        "```print(6 // 2) # // integer division```\n",
        "\n",
        "```print(2. * 3)```\n",
        "\n",
        "```print(2 < 4)```\n",
        "\n",
        "```print(2 >= 2)```\n",
        "\n",
        "```print(\"Hello\"+\"World\")```\n",
        "\n",
        "```print(\"bla\" * 3)```\n",
        "\n",
        "```print(2 * 3 ** 3)```\n",
        "\n",
        "```print(5 * 25 // 13 + 100 / 2 % 13 // 2)```\n",
        "\n",
        "```print(2 * 3 % 5)```\n",
        "\n",
        "```print((2 % -4), (2 % 4), (2 ** 3 ** 2))```\n"
      ],
      "metadata": {
        "id": "uQxH0KO0tsDc"
      }
    },
    {
      "cell_type": "markdown",
      "source": [
        "b) Please verify using Python to determine if you have achieved at least 80% correct answers."
      ],
      "metadata": {
        "id": "4HjghxnSJgY1"
      }
    },
    {
      "cell_type": "code",
      "source": [
        "print(5 + 2 - 2)\n",
        "5\n",
        "\n",
        "print(5 / 2)\n",
        "2.5\n",
        "\n",
        "print(6 // 2)\n",
        "3\n",
        "\n",
        "print(2. * 3)\n",
        "6.0\n",
        "\n",
        "print(2 < 4)\n",
        "True\n",
        "\n",
        "print(2 >= 2)\n",
        "True\n",
        "\n",
        "print(\"Hello\"+\"World\")\n",
        "\"HelloWorld\"\n",
        "\n",
        "print(\"bla\" * 3)\n",
        "\"blablabla\"\n",
        "print(5 + 2 - 2)\n",
        "print(5)\n",
        "\n",
        "print(5 / 2)\n",
        "print(2.5)\n",
        "\n",
        "print(6 // 2)\n",
        "print(3)\n",
        "\n",
        "print(2. * 3)\n",
        "print(6.0)\n",
        "\n",
        "print(2 < 4)\n",
        "print(True)\n",
        "\n",
        "print(2 >= 2)\n",
        "print(True)\n",
        "\n",
        "print(\"Hello\"+\"World\")\n",
        "print(\"HelloWorld\")\n",
        "\n",
        "print(\"bla\" * 3)\n",
        "print(\"blablabla\")\n",
        "\n",
        "print(2 * 3 ** 3)\n",
        "print(2 * 27) #= 54\n",
        "\n",
        "print(5 * 25 // 13 + 100 / 2 % 13 // 2)\n",
        "print(14)\n",
        "\n",
        "print(2 * 3 % 5)\n",
        "print(1)\n",
        "\n",
        "print((2 % -4), (2 % 4), (2 ** 3 ** 2))\n",
        "print(-2, 2, 512)\n",
        "14\n",
        "\n",
        "print(2 * 3 % 5)\n",
        "1\n",
        "print(5 + 2 - 2)\n",
        "print(5)\n",
        "\n",
        "print(5 / 2)\n",
        "print(2.5)\n",
        "\n",
        "print(6 // 2)\n",
        "print(3)\n",
        "\n",
        "print(2. * 3)\n",
        "print(6.0)\n",
        "\n",
        "print(2 < 4)\n",
        "print(True)\n",
        "\n",
        "print(2 >= 2)\n",
        "print(True)\n",
        "\n",
        "print(\"Hello\"+\"World\")\n",
        "print(\"HelloWorld\")\n",
        "\n",
        "print(\"bla\" * 3)\n",
        "print(\"blablabla\")\n",
        "\n",
        "print(2 * 3 ** 3)\n",
        "print(2 * 27) #= 54\n",
        "\n",
        "print(5 * 25 // 13 + 100 / 2 % 13 // 2)\n",
        "print(14)\n",
        "\n",
        "print(2 * 3 % 5)\n",
        "print(1)\n",
        "\n",
        "print((2 % -4), (2 % 4), (2 ** 3 ** 2))\n",
        "print(-2, 2, 512)\n",
        "\n",
        "print(2 * 3 % 5)\n",
        "print(1)\n",
        "\n",
        "print((2 % -4), (2 % 4), (2 ** 3 ** 2))\n",
        "print(-2, 2, 512)"
      ],
      "metadata": {
        "id": "tLQh-A7Kt70H",
        "collapsed": true,
        "outputId": "8636be23-2841-4063-ad49-b365f3b61732",
        "colab": {
          "base_uri": "https://localhost:8080/"
        }
      },
      "execution_count": 5,
      "outputs": [
        {
          "output_type": "stream",
          "name": "stdout",
          "text": [
            "5\n",
            "2.5\n",
            "3\n",
            "6.0\n",
            "True\n",
            "True\n",
            "HelloWorld\n",
            "blablabla\n",
            "5\n",
            "5\n",
            "2.5\n",
            "2.5\n",
            "3\n",
            "3\n",
            "6.0\n",
            "6.0\n",
            "True\n",
            "True\n",
            "True\n",
            "True\n",
            "HelloWorld\n",
            "HelloWorld\n",
            "blablabla\n",
            "blablabla\n",
            "54\n",
            "54\n",
            "14.0\n",
            "14\n",
            "1\n",
            "1\n",
            "-2 2 512\n",
            "-2 2 512\n",
            "1\n",
            "5\n",
            "5\n",
            "2.5\n",
            "2.5\n",
            "3\n",
            "3\n",
            "6.0\n",
            "6.0\n",
            "True\n",
            "True\n",
            "True\n",
            "True\n",
            "HelloWorld\n",
            "HelloWorld\n",
            "blablabla\n",
            "blablabla\n",
            "54\n",
            "54\n",
            "14.0\n",
            "14\n",
            "1\n",
            "1\n",
            "-2 2 512\n",
            "-2 2 512\n",
            "1\n",
            "1\n",
            "-2 2 512\n",
            "-2 2 512\n"
          ]
        }
      ]
    },
    {
      "cell_type": "code",
      "source": [],
      "metadata": {
        "id": "xo50zZbPTVht"
      },
      "execution_count": null,
      "outputs": []
    },
    {
      "cell_type": "markdown",
      "source": [
        "### Data type\n"
      ],
      "metadata": {
        "id": "58GMVBXqKY89"
      }
    },
    {
      "cell_type": "markdown",
      "source": [
        "a) What will the output be without using Python? Aim for 80% accuracy.\n",
        "```type(\"Hello\")```\n",
        "\n",
        "```type(1+\"2\")```\n",
        "\n",
        "```type(1.)```\n",
        "\n",
        "```type('A')```\n",
        "\n",
        "```type(500)```\n",
        "\n",
        "```type(True)```\n",
        "\n",
        "```type(\"False\")```\n"
      ],
      "metadata": {
        "id": "f3_kJZnHKolp"
      }
    },
    {
      "cell_type": "markdown",
      "source": [
        "Answer here"
      ],
      "metadata": {
        "id": "TZ3zlabVMebV"
      }
    },
    {
      "cell_type": "markdown",
      "source": [
        "b) Please verify using Python to determine if you have achieved at least 80% correct answers."
      ],
      "metadata": {
        "id": "LmwF2Rg2Li7M"
      }
    },
    {
      "cell_type": "code",
      "source": [
        "\n",
        "type(\"Hello\")\n",
        "# A word or sentence\n",
        "type(1+\"2\")\n",
        "# Error (a number and a word cannot be added together)\n",
        "type('A')\n",
        "# A single letter\n",
        "type(500)\n",
        "# A whole number\n",
        "type(True)\n",
        "# A yes-or-no Value\n",
        "type(\"False\")\n",
        "# A word, not a true-or-false value\n",
        "type('A')\n",
        "A single letter\n",
        "type(500)\n",
        "A whole number\n",
        "type(True)\n",
        "A yes-or-no value\n",
        "type(\"False\")\n",
        "A word, not a true-or-false value"
      ],
      "metadata": {
        "id": "kLoyOaLLLnSK",
        "outputId": "9f2e3e96-7672-4b0f-a139-69175b0657ef",
        "colab": {
          "base_uri": "https://localhost:8080/",
          "height": 106
        }
      },
      "execution_count": 19,
      "outputs": [
        {
          "output_type": "error",
          "ename": "SyntaxError",
          "evalue": "invalid syntax (<ipython-input-19-37f9b0aa91f9>, line 14)",
          "traceback": [
            "\u001b[0;36m  File \u001b[0;32m\"<ipython-input-19-37f9b0aa91f9>\"\u001b[0;36m, line \u001b[0;32m14\u001b[0m\n\u001b[0;31m    A single letter\u001b[0m\n\u001b[0m      ^\u001b[0m\n\u001b[0;31mSyntaxError\u001b[0m\u001b[0;31m:\u001b[0m invalid syntax\n"
          ]
        }
      ]
    },
    {
      "cell_type": "markdown",
      "source": [
        "### Operator precedence"
      ],
      "metadata": {
        "id": "WpQLLdj7Lr4K"
      }
    },
    {
      "cell_type": "markdown",
      "source": [
        "a) Write your arithmetic expression that uses at least one operator from each group. For example ```5 * 25 % 13 + 100 / -2 * 13 // 2 ** 3```"
      ],
      "metadata": {
        "id": "DdtOLAZfLz8X"
      }
    },
    {
      "cell_type": "code",
      "source": [
        "5.0"
      ],
      "metadata": {
        "id": "iJH2iRokL14f",
        "outputId": "37d2ed95-ea3c-428f-89c2-f9fc4a064b9b",
        "colab": {
          "base_uri": "https://localhost:8080/"
        }
      },
      "execution_count": 6,
      "outputs": [
        {
          "output_type": "execute_result",
          "data": {
            "text/plain": [
              "5.0"
            ]
          },
          "metadata": {},
          "execution_count": 6
        }
      ]
    },
    {
      "cell_type": "markdown",
      "source": [
        "b) What will the output be without using Python after writing your arithmetic expression? Use the table below for your reference."
      ],
      "metadata": {
        "id": "C8NjhQrfMILL"
      }
    },
    {
      "cell_type": "markdown",
      "source": [
        "| Priority | Operator                                                     | Notes                    |\n",
        "| :------- | :----------------------------------------------------------- | :----------------------- |\n",
        "| 1        | `**`                                                         | Right to left evaluation |\n",
        "| 2        | `+`, `-` (note: unary operators located next to the right of the power operator bind more strongly) | unary                    |\n",
        "| 3        | `*`, `/`, `//`, `%`                                          | Left to right evaluation |\n",
        "| 4        | `+`, `-`                                                     | binary                   |"
      ],
      "metadata": {
        "id": "DqRqRrNsMPRp"
      }
    },
    {
      "cell_type": "markdown",
      "source": [
        "Answer here"
      ],
      "metadata": {
        "id": "cKsvL_1JMRVJ"
      }
    },
    {
      "cell_type": "markdown",
      "source": [
        "c) Please verify using Python to determine if you have done it correctly."
      ],
      "metadata": {
        "id": "9micAN0HM2VI"
      }
    },
    {
      "cell_type": "code",
      "source": [
        "5.0"
      ],
      "metadata": {
        "id": "oyX3LQADM4IY",
        "outputId": "d80b7621-9485-4aeb-df8c-aaaa78c7f1a4",
        "colab": {
          "base_uri": "https://localhost:8080/"
        }
      },
      "execution_count": 7,
      "outputs": [
        {
          "output_type": "execute_result",
          "data": {
            "text/plain": [
              "5.0"
            ]
          },
          "metadata": {},
          "execution_count": 7
        }
      ]
    },
    {
      "cell_type": "markdown",
      "source": [
        "## Challenges\n",
        "\n",
        "Please describe the challenges you faced during the exercise."
      ],
      "metadata": {
        "id": "xQzjxKdvvbyo"
      }
    },
    {
      "cell_type": "markdown",
      "source": [
        "Write your challenges here"
      ],
      "metadata": {
        "id": "qfJNpTB5EbY4"
      }
    },
    {
      "cell_type": "markdown",
      "source": [
        "Remembering the Rules - It was hard to know which math rule comes first.\n",
        "Big Numbers - Some numbers were tricky to work with.\n",
        "Different Signs -Figuring out how minus and divide work together was a little confusing.\n",
        "Checking My Work - I had to be very careful so I didn’t make a mistake.\n",
        "Doing It Without Python - Solving it on my own took more time."
      ],
      "metadata": {
        "id": "z7Dqcx5tatjP"
      }
    }
  ]
}