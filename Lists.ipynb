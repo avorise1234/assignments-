{
  "nbformat": 4,
  "nbformat_minor": 0,
  "metadata": {
    "colab": {
      "provenance": [],
      "include_colab_link": true
    },
    "kernelspec": {
      "name": "python3",
      "display_name": "Python 3"
    },
    "language_info": {
      "name": "python"
    }
  },
  "cells": [
    {
      "cell_type": "markdown",
      "metadata": {
        "id": "view-in-github",
        "colab_type": "text"
      },
      "source": [
        "<a href=\"https://colab.research.google.com/github/avorise1234/assignments-/blob/main/Lists.ipynb\" target=\"_parent\"><img src=\"https://colab.research.google.com/assets/colab-badge.svg\" alt=\"Open In Colab\"/></a>"
      ]
    },
    {
      "cell_type": "markdown",
      "source": [
        "# Lists in Python\n",
        "A list is an ordered collection of elements, and each element can be of any data type, such as numbers, strings, Booleans, or even other lists. In Python, lists are mutable, meaning their contents can be changed. Lists are particularly useful when you want to handle a group of related values.\n",
        "\n",
        "## Objective\n",
        "- Comprehend the application of lists\n",
        "- Understand how a list uses memory\n",
        "- Apply various operations on a list\n",
        "\n",
        "## Prerequisite\n",
        "\n",
        "- Decision statements\n",
        "- Input functions\n",
        "- Python literals\n",
        "- Programming variables\n",
        "\n",
        "\n",
        "## What do you need to complete this exercise?\n",
        "\n",
        "You can perform this exercise in any Python IDE, including JupyterLab or Google Colab.\n"
      ],
      "metadata": {
        "id": "2ITy4ycVFXBq"
      }
    },
    {
      "cell_type": "markdown",
      "source": [
        "a) a. Using a range function, generate a list of 100 integers and assign the list to ```my_list```. Verify that the variable ```my_list``` data type is list. Use your favorite four methods and apply on the list. You can find the methods on [Python Docs](https://docs.python.org/3/tutorial/datastructures.html)"
      ],
      "metadata": {
        "id": "uQxH0KO0tsDc"
      }
    },
    {
      "cell_type": "code",
      "source": [
        "# Generate a list of 100 integers using range\n",
        "my_list = list(range(100))\n",
        "\n",
        "#Vertify the type of my_list\n",
        "print(type(my_list))  #Should output: <class 'list>\n",
        "\n",
        "# Apply four list methods\n",
        "my_list. append(100)  # Adds an element to the end of the list\n",
        "my_list.pop()         # Removes the last elemnt\n",
        "my_list.reverse()     # Reverse the list\n",
        "my_list.sort()        # Sorts the list in ascending order\n",
        "\n",
        "# Print to check changes\n",
        "print(my_list[:10])  # Display first 10 elements"
      ],
      "metadata": {
        "id": "rRTflD1C9mjt",
        "outputId": "d58daa0b-6df5-40d4-bd3b-7476eed13102",
        "colab": {
          "base_uri": "https://localhost:8080/"
        }
      },
      "execution_count": 2,
      "outputs": [
        {
          "output_type": "stream",
          "name": "stdout",
          "text": [
            "<class 'list'>\n",
            "[0, 1, 2, 3, 4, 5, 6, 7, 8, 9]\n"
          ]
        }
      ]
    },
    {
      "cell_type": "markdown",
      "source": [
        "b. Suppose that you have a list of 10 items long. How might you move the last three items from the end of the list to the beginning, keeping them in the same order?"
      ],
      "metadata": {
        "id": "0jkTuRdlA6sk"
      }
    },
    {
      "cell_type": "code",
      "source": [
        "# # Example list\n",
        "my_list = [1, 2, 3, 4, 5, 6, 7, 8, 9, 10]\n",
        "\n",
        "# Moving last three items to the beginning\n",
        "new_list = my_list[-3:] + my_list[:-3]\n",
        "\n",
        "print(new_list)  # Output should be [8, 9, 10, 1, 2, 3, 4, 5, 6, 7]\n"
      ],
      "metadata": {
        "id": "8ZIVOfAMQt2Z",
        "outputId": "32e53882-6ab7-4837-88ef-febf2e50463f",
        "colab": {
          "base_uri": "https://localhost:8080/"
        }
      },
      "execution_count": 3,
      "outputs": [
        {
          "output_type": "stream",
          "name": "stdout",
          "text": [
            "[8, 9, 10, 1, 2, 3, 4, 5, 6, 7]\n"
          ]
        }
      ]
    },
    {
      "cell_type": "markdown",
      "source": [
        "c. What would be the result of ```len([[1,2]] * 3)```? Try to do it without coding and then verify using Python."
      ],
      "metadata": {
        "id": "Wv1LOaouA_Gq"
      }
    },
    {
      "cell_type": "code",
      "source": [
        "# [[1, 2], [1, 2], [1, 2]]\n"
      ],
      "metadata": {
        "id": "cF0UyMIqQ8V3"
      },
      "execution_count": 4,
      "outputs": []
    },
    {
      "cell_type": "markdown",
      "source": [
        "d. Create a list ```my-list-ten``` of 10 items that includes some duplicate entries. Then, generate a second list ```my-list-ten-mem``` that contains the memory addresses of the items from the list ```my-list-ten```. Use Python to research and identify the unique and duplicate memory addresses."
      ],
      "metadata": {
        "id": "0IWZsl7LBGvD"
      }
    },
    {
      "cell_type": "code",
      "source": [
        "# import sys\n",
        "\n",
        "# Create a list with 10 items, including duplicates\n",
        "my_list_ten = [1, 2, 3, 4, 5, 2, 6, 7, 3, 8]\n",
        "\n",
        "# Generate a second list that contains memory addresses\n",
        "my_list_ten_mem = [id(item) for item in my_list_ten]\n",
        "\n",
        "# Print the list and memory addresses\n",
        "for item, mem in zip(my_list_ten, my_list_ten_mem):\n",
        "    print(f\"Value: {item}, Memory Address: {mem}\")\n",
        "\n",
        "# Identify unique and duplicate memory addresses\n",
        "unique_addresses = set(my_list_ten_mem)\n",
        "duplicates = [addr for addr in my_list_ten_mem if my_list_ten_mem.count(addr) > 1]\n",
        "\n",
        "print(\"\\nUnique Memory Addresses:\", unique_addresses)\n",
        "print(\"Duplicate Memory Addresses:\", set(duplicates))\n"
      ],
      "metadata": {
        "id": "S5kO371-Q_NL",
        "outputId": "479b82d2-814e-40cd-a7e0-6db09a63eb4b",
        "colab": {
          "base_uri": "https://localhost:8080/"
        }
      },
      "execution_count": 5,
      "outputs": [
        {
          "output_type": "stream",
          "name": "stdout",
          "text": [
            "Value: 1, Memory Address: 10750856\n",
            "Value: 2, Memory Address: 10750888\n",
            "Value: 3, Memory Address: 10750920\n",
            "Value: 4, Memory Address: 10750952\n",
            "Value: 5, Memory Address: 10750984\n",
            "Value: 2, Memory Address: 10750888\n",
            "Value: 6, Memory Address: 10751016\n",
            "Value: 7, Memory Address: 10751048\n",
            "Value: 3, Memory Address: 10750920\n",
            "Value: 8, Memory Address: 10751080\n",
            "\n",
            "Unique Memory Addresses: {10750856, 10750984, 10750952, 10750888, 10750920, 10751016, 10751048, 10751080}\n",
            "Duplicate Memory Addresses: {10750888, 10750920}\n"
          ]
        }
      ]
    },
    {
      "cell_type": "markdown",
      "source": [
        "e. Delete the list ```my-list-ten``` created in the above step."
      ],
      "metadata": {
        "id": "tJlIQIYjBPLX"
      }
    },
    {
      "cell_type": "code",
      "source": [
        "# # Delete the list\n",
        "del my_list_ten\n",
        "\n",
        "# Try accessing it (will raise an error if deleted)\n",
        "try:\n",
        "    print(my_list_ten)\n",
        "except NameError:\n",
        "    print(\"my_list_ten is deleted.\")\n"
      ],
      "metadata": {
        "id": "fQr5X9N0RceU",
        "outputId": "1f6268bc-c9c7-4490-c8aa-f6c45a4b4dd3",
        "colab": {
          "base_uri": "https://localhost:8080/"
        }
      },
      "execution_count": 6,
      "outputs": [
        {
          "output_type": "stream",
          "name": "stdout",
          "text": [
            "my_list_ten is deleted.\n"
          ]
        }
      ]
    },
    {
      "cell_type": "markdown",
      "source": [
        "f. Create a new list ```my-new-list``` of the same 10 items used in ```my-list-ten```. Generate memory addresses of the items in ```my-new-list``` and compare them with the memory addresses in ```my-list-ten-mem```. Discuss what do you observe."
      ],
      "metadata": {
        "id": "jflVX2GHBT3-"
      }
    },
    {
      "cell_type": "code",
      "source": [
        "# # Create a new list with the same values as my_list_ten\n",
        "my_new_list = [1, 2, 3, 4, 5, 2, 6, 7, 3, 8]\n",
        "\n",
        "# Generate memory addresses for the new list\n",
        "my_new_list_mem = [id(item) for item in my_new_list]\n",
        "\n",
        "# Compare with my_list_ten_mem\n",
        "for i in range(len(my_new_list)):\n",
        "    print(f\"Value: {my_new_list[i]}, Memory Address: {my_new_list_mem[i]}\")\n",
        "\n",
        "# Discussion:\n",
        "# Since integers are immutable, identical numbers (e.g., 2 and 3) may share the same memory address\n",
        "# across both lists due to Python's internal caching mechanism.\n"
      ],
      "metadata": {
        "id": "QacofGe4RdZX",
        "outputId": "e1e90cc2-4356-4573-b055-dfd762d28d63",
        "colab": {
          "base_uri": "https://localhost:8080/"
        }
      },
      "execution_count": 7,
      "outputs": [
        {
          "output_type": "stream",
          "name": "stdout",
          "text": [
            "Value: 1, Memory Address: 10750856\n",
            "Value: 2, Memory Address: 10750888\n",
            "Value: 3, Memory Address: 10750920\n",
            "Value: 4, Memory Address: 10750952\n",
            "Value: 5, Memory Address: 10750984\n",
            "Value: 2, Memory Address: 10750888\n",
            "Value: 6, Memory Address: 10751016\n",
            "Value: 7, Memory Address: 10751048\n",
            "Value: 3, Memory Address: 10750920\n",
            "Value: 8, Memory Address: 10751080\n"
          ]
        }
      ]
    },
    {
      "cell_type": "markdown",
      "source": [
        "g. Suppose that you have the following list: ```x = [[1, 2, 3], [4, 5, 6], [7, 8, 9]]```. What code could you use to get a copy ```y``` of that list in which you could change the elements without the side effect of changing the contents of ```x```?"
      ],
      "metadata": {
        "id": "BRZq7VPZBYsN"
      }
    },
    {
      "cell_type": "code",
      "source": [
        "import copy\n",
        "\n",
        "x = [[1, 2, 3], [4, 5, 6], [7, 8, 9]]\n",
        "\n",
        "# Deep copy to avoid modifying original elements\n",
        "y = copy.deepcopy(x)\n",
        "\n",
        "print(y)  # Output: [[1, 2, 3], [4, 5, 6], [7, 8, 9]]\n",
        "\n",
        "# Now modifying y will not affect x\n",
        "y[0][0] = 99\n",
        "print(x)  # x remains unchange"
      ],
      "metadata": {
        "id": "5M7ksW8xsC3k",
        "outputId": "a80ea0e7-9f6f-48a4-daff-234d3ed9a878",
        "colab": {
          "base_uri": "https://localhost:8080/"
        }
      },
      "execution_count": 9,
      "outputs": [
        {
          "output_type": "stream",
          "name": "stdout",
          "text": [
            "[[1, 2, 3], [4, 5, 6], [7, 8, 9]]\n",
            "[[1, 2, 3], [4, 5, 6], [7, 8, 9]]\n"
          ]
        }
      ]
    },
    {
      "cell_type": "markdown",
      "source": [
        "h. Is it possible to use multiple expressions within a list comprehension?"
      ],
      "metadata": {
        "id": "LUIwtfcJBnsq"
      }
    },
    {
      "cell_type": "code",
      "source": [
        "# # Example of multiple expressions in list comprehension\n",
        "result = [x * 2 for x in range(5) if x % 2 == 0]\n",
        "print(result)  # Output: [0, 4, 8]"
      ],
      "metadata": {
        "id": "7xxHmgPKBoSc",
        "outputId": "762bf6c2-7272-43f6-bc5f-925d78b43d12",
        "colab": {
          "base_uri": "https://localhost:8080/"
        }
      },
      "execution_count": 10,
      "outputs": [
        {
          "output_type": "stream",
          "name": "stdout",
          "text": [
            "[0, 4, 8]\n"
          ]
        }
      ]
    },
    {
      "cell_type": "markdown",
      "source": [
        "i. Using a list comprehension, count how many spaces are in the following statement.\n",
        "\"To be, or not to be, this is the question\""
      ],
      "metadata": {
        "id": "dV-_5n78BxH4"
      }
    },
    {
      "cell_type": "code",
      "source": [
        "## Given statement\n",
        "text = \"To be, or not to be, this is the question\"\n",
        "\n",
        "# Count spaces using list comprehension\n",
        "space_count = sum([1 for char in text if char == \" \"])\n",
        "\n",
        "print(space_count)  # Output: 9"
      ],
      "metadata": {
        "id": "1C6WRbQ1I_up",
        "outputId": "60db2b1b-5200-4c10-98ce-5f6f31c96b85",
        "colab": {
          "base_uri": "https://localhost:8080/"
        }
      },
      "execution_count": 11,
      "outputs": [
        {
          "output_type": "stream",
          "name": "stdout",
          "text": [
            "9\n"
          ]
        }
      ]
    },
    {
      "cell_type": "markdown",
      "source": [
        "j. Choose any 5 lists operations of your choice from the link https://docs.python.org/3/tutorial/datastructures.html\n"
      ],
      "metadata": {
        "id": "QJQ3mnTyIz7c"
      }
    },
    {
      "cell_type": "code",
      "source": [
        "# # Example list\n",
        "my_list = [10, 20, 30, 40, 50]\n",
        "\n",
        "# 1. Append: Add an element to the end of the list\n",
        "my_list.append(60)\n",
        "print(\"After append:\", my_list)  # Output: [10, 20, 30, 40, 50, 60]\n",
        "\n",
        "# 2. Insert: Insert an element at a specific position\n",
        "my_list.insert(2, 25)\n",
        "print(\"After insert:\", my_list)  # Output: [10, 20, 25, 30, 40, 50, 60]\n",
        "\n",
        "# 3. Remove: Remove the first occurrence of a value\n",
        "my_list.remove(40)\n",
        "print(\"After remove:\", my_list)  # Output: [10, 20, 25, 30, 50, 60]\n",
        "\n",
        "# 4. Pop: Remove and return an element (default is last element)\n",
        "popped_value = my_list.pop()\n",
        "print(\"After pop:\", my_list, \"| Popped:\", popped_value)  # Output: [10, 20, 25, 30, 50] | Popped: 60\n",
        "\n",
        "# 5. Reverse: Reverse the order of elements\n",
        "my_list.reverse()\n",
        "print(\"After reverse:\", my_list)  # Output: [50, 30, 25, 20, 10]\n"
      ],
      "metadata": {
        "id": "7JcT_W26B0Nu",
        "outputId": "912bdb81-239d-420a-f5e3-f77adf79710a",
        "colab": {
          "base_uri": "https://localhost:8080/"
        }
      },
      "execution_count": 12,
      "outputs": [
        {
          "output_type": "stream",
          "name": "stdout",
          "text": [
            "After append: [10, 20, 30, 40, 50, 60]\n",
            "After insert: [10, 20, 25, 30, 40, 50, 60]\n",
            "After remove: [10, 20, 25, 30, 50, 60]\n",
            "After pop: [10, 20, 25, 30, 50] | Popped: 60\n",
            "After reverse: [50, 30, 25, 20, 10]\n"
          ]
        }
      ]
    },
    {
      "cell_type": "markdown",
      "source": [
        "## Challenges\n",
        "\n",
        "Please describe the challenges you faced during the exercise."
      ],
      "metadata": {
        "id": "xQzjxKdvvbyo"
      }
    },
    {
      "cell_type": "markdown",
      "source": [
        "Observing how Python assigns memory to list elements helped understand why identical values share addresses. Applying multiple conditions in list comprehensions required some trial and error."
      ],
      "metadata": {
        "id": "qfJNpTB5EbY4"
      }
    }
  ]
}